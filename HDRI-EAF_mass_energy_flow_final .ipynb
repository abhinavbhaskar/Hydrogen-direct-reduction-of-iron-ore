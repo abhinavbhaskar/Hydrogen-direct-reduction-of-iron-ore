{
 "cells": [
  {
   "cell_type": "markdown",
   "metadata": {},
   "source": [
    "Mass and energy balance model of the HDRI-EAF system coupled with an electrolyser has been developed in this work. All the calculations are based on steady state conditions. Enthalpy values have been calculated from NIST data. All the relevant calculations are presented in the Github repository https://github.com/abhinavbhaskar/directreducediron\n",
    "Some of the important assumptions made for the model are listed below :\n",
    "\n",
    "  \n",
    "1. All calculations are done for the production of 1 ton of liquid steel from the system.\n",
    "2. 5% impurities are present in the raw materials. The assumption is consistent with the plant data available in the literature.Primary components of the impurities are silica and alumina.\n",
    "3. The iron ore pellets are heated from ambient temperature to 800 C,through an electrical heater of efficiency, $\\eta_{thermal}=0.85$.\n",
    "4. Output from the shaft furnace would be metallic Fe and FeO. Remaining FeO will be reduced to pure iron in the electric arc furnace. Although, in practice some amount of FeO does not get reduced and becomes a part of the EAF slag.\n",
    "5. The flow rate of hydrogen is considered to be higher than the stoichiometric requirements.\n",
    "6. Apparent activation energy of 35 kJ/mol has been considered in the model. \n",
    "7. Hydrogen produced from electrolysers are heated in an electrical heater with an efficiency of $\\eta_{thermal}=0.6$.\n",
    "\n",
    "8. DRI stream exiting the shaft furnace is considered to be at a temperature of  800C.\n",
    "9. The exhaust gas stream is assumed to be composed of hydrogen and water.The waste stream enthalpy varies with exhaust gas temperature and $\\lambda_{h{2}}$.\n",
    "10. Energy required to separate hydrogen and water from the waste stream is not considered in the present calculations.\n",
    "11. 100\\% DRI is fed into the furnace without any scrap. The quality of scrap has a significant effect on the energy consumption in a DRI. \n",
    "12. Hot DRI is fed into the DRI at 700 \\textdegree C as it saves considerable amount of electrical energy in the EAF.\n",
    "13. Natural gas is not used for heating the material as its the general practice to use natural gas with scrap for initial heating.\n",
    "14. As DRI is reduced only with Hydrogen, it is assumed that it does not contain any ferric carbide. Carbon required for reduction of remaining FeO in the EAF is supplied externally as coal or coke. \n",
    "15. Temperature of the DRI being fed into the EAF is not taken into account into empirical energy models (Pfeifer2003). Thermodynamic modelling of the EAF has been done to get the specific energy consumption of the EAF with 100% DRI. \n",
    "16. Carbon is added into the EAF to reduce the remaining FeO in the mix and also to generate CO for froth formation,which is essential for the operation of the EAF and to extend the life of the graphite electrodes and the refractory.\n",
    "17. CaO and MgO are added in the EAF as slag formers to maintain the basicity of the EAF.The weight of CaO and MgO used are according to data published in the literature (Dilmac2015).\n",
    "18. Efficiency parameters used in the EAF model for electrical and chemical energy are according to the reference \n",
    "\n",
    "\n",
    "# Mass and energy balance for a direct reduction shaft furnace \n",
    "\n",
    "Iron ore pellets containing upto 5% impurities eneter the direct shaft furnace after being heated to the reaction temperature of $800 C $ by electrical heaters.\n",
    "\n",
    "${M_{Fe_{2}O_{3}}=\\frac{1}{({Fe_{2}O_{3}}_{pure}*FeO_{ratio}*alpha)}}$ <br />\n",
    "Where, <br />\n",
    "$M_{Fe_{2}O_{3}}$= Mass flow rate of iron ore for production of 1 ton of liquid steel in kg/tls<br />\n",
    "${Fe_{2}O_{3}}_{pure}$=Percentage of pure iron ore in the iron ore stream (assumed to be 0.95)<br />\n",
    "$FeO_{ratio}$=Ratio of molecular weight of iron contained in iron oxide (0.7) <br />\n"
   ]
  },
  {
   "cell_type": "code",
   "execution_count": 61,
   "metadata": {},
   "outputs": [],
   "source": [
    "import pandas as pd \n",
    "import matplotlib.pyplot as plt\n",
    "plt.rcParams['savefig.dpi'] = 300\n",
    "import numpy as np"
   ]
  },
  {
   "cell_type": "markdown",
   "metadata": {},
   "source": [
    "Mass flow rate of iron ore into the shaft : m1 <br />\n",
    "Mass flow rate of Silica into the shaft : m1_sio2   <br /> \n",
    "Mass flow rate of Alumina into the shaft : m1_al2o3: <br />\n",
    "Mass flow rate of Wustite from the DRI shaft furnace to the EAF :m4_feo <br />\n"
   ]
  },
  {
   "cell_type": "markdown",
   "metadata": {},
   "source": [
    "## Molecular weight of raw materials fed to the shaft furnace"
   ]
  },
  {
   "cell_type": "code",
   "execution_count": 2,
   "metadata": {},
   "outputs": [],
   "source": [
    "mol_weight_fe=55.845 #in grams\n",
    "mol_weight_fe2o3=159.688 #in grams \n",
    "mol_weight_Sio2=60.0843 #in grams\n",
    "mol_weight_al2o3=101.9613 #in grams\n",
    "mol_weight_feo=71.844 #in grams\n",
    "mol_weight_H2=2.01588 #in grams\n",
    "mol_weight_H2O=18.0153 #in grams\n",
    "mol_weight_cao=56.077#in grams\n",
    "mol_weight_mgo=40.3044 #in grams\n",
    "mol_weight_al2o3=101.9613 #in grams"
   ]
  },
  {
   "cell_type": "code",
   "execution_count": 3,
   "metadata": {},
   "outputs": [
    {
     "name": "stdout",
     "output_type": "stream",
     "text": [
      "FeO percentage : 0.06382978723404262\n",
      "Mass of iron ore fed to the shaft furnace in ton/tls: 1.5997440409534478\n",
      "Mass of wustite  DRI_EAF processin ton/tls: 0.06382978723404262\n",
      "Mass of SiO2 in ton/tls 0.04799232122860343\n",
      "Mass of Al2O3 0.031994880819068955\n"
     ]
    }
   ],
   "source": [
    "# Metallization rates considered for the DRI reduction shaft furnace\n",
    "alpha=0.94 \n",
    "# Percentage of hematite in the raw material. \n",
    "fe2O3_pure=0.95 \n",
    "# percentage of iron in one mole of iron ore \n",
    "Fe_O_ratio=(112/160)\n",
    "# Tons of steel produced in the DRI-EAF system\n",
    "m6=1\n",
    "# Weight of total iron ore fed to the DRI-EAF system\n",
    "m1=m6/(fe2O3_pure*Fe_O_ratio*alpha)\n",
    "# Depends on the slag content , metallization rate \n",
    "m4_feo=(m1*fe2O3_pure*(1-alpha)*Fe_O_ratio) \n",
    "print(\"FeO percentage :\",m4_feo)\n",
    "# Percentage of silica in the ore pellets\n",
    "SIO2_per=3 \n",
    "#Percentage of alumina in the ore pellets\n",
    "Al2O3_per=2 \n",
    "m1_sio2=(m1*SIO2_per)/100 # SiO2 weight in ton\n",
    "m1_al2o3=(m1*Al2O3_per)/100 # weight in ton\n",
    "print(\"Mass of iron ore fed to the shaft furnace in ton/tls:\",m1)\n",
    "print(\"Mass of wustite  DRI_EAF processin ton/tls:\",m4_feo)\n",
    "print(\"Mass of SiO2 in ton/tls\",m1_sio2)\n",
    "print(\"Mass of Al2O3\",m1_al2o3)"
   ]
  },
  {
   "cell_type": "markdown",
   "metadata": {},
   "source": [
    "\n"
   ]
  },
  {
   "cell_type": "markdown",
   "metadata": {},
   "source": [
    "## Heat required to heat the pellets \n",
    "The raw materials (ore and impurities) are both heated from ambient temperature to 900 C, which is the reaction temperature.The heat is provided through electrical heaters at an electrical efficiency of 0.85. The input temperature of the pellets is considered to be 298 K and the exit temperature to be 1073 K."
   ]
  },
  {
   "cell_type": "code",
   "execution_count": 4,
   "metadata": {},
   "outputs": [
    {
     "name": "stdout",
     "output_type": "stream",
     "text": [
      "Enthalpy of Iron ore in KJ/kg : 785.4187320250271\n",
      " Enthalpy of iron ore in kJ : 1256468.93621025\n"
     ]
    }
   ],
   "source": [
    "T1=298 # K Inlet temperature\n",
    "T2=1173 # K outlet temperature\n",
    "# Enthalpy calculations for the different raw materials fed to the shaft furnace.\n",
    "m2=m1\n",
    "# T1 and T2 should be in the range of 298-950 K \n",
    "def fe2o3_enthalpy_1(T):\n",
    "    t=T/1000\n",
    "    A=93.43834\n",
    "    B=108.3577\n",
    "    C=-50.86447\n",
    "    D=25.58683\n",
    "    E=-1.611330\n",
    "    F=-863.2094   \n",
    "    G=161.0719\n",
    "    H=-825.5032 \n",
    "    H_t=A*t +(B*t*t)/2 +(C*t*t*t)/3 + (D*t*t*t*t)/4-(E/t)+F-H\n",
    "    return H_t\n",
    "# T1 and T2 should be in the range of 1050-2500 K \n",
    "def fe2o3_enthalpy_2(T):\n",
    "    t=T/1000\n",
    "    A=150.6240\n",
    "    B=0\n",
    "    C=0\n",
    "    D=0\n",
    "    E=0\n",
    "    F=-875.6066\n",
    "    G=252.8814\n",
    "    H=-825.5032\n",
    "    H_t=A*t +(B*t*t)/2 +(C*t*t*t)/3 + (D*t*t*t*t)/4-(E/t)+F-H\n",
    "    return H_t\n",
    "def fe2o3_enthalpy_3(T):# T1 and T2 should be in the range of 1050-2500 K \n",
    "    t=T/1000\n",
    "    A=110.9362\n",
    "    B=32.04714\n",
    "    C=-9.192333\n",
    "    D=0.901506\n",
    "    E=5.433677\n",
    "    F=-843.1471\n",
    "    G=228.3548\n",
    "    H=-825.5032\n",
    "    H_t=A*t +(B*t*t)/2 +(C*t*t*t)/3 + (D*t*t*t*t)/4-(E/t)+F-H\n",
    "    return H_t\n",
    "if T2 in range(298,951):\n",
    "    h2=fe2o3_enthalpy_1(T2)-fe2o3_enthalpy_1(T1)\n",
    "elif T2 in range(951,1051):\n",
    "    h2=fe2o3_enthalpy_2(T2)-fe2o3_enthalpy_1(T1)\n",
    "elif T2 in range(1051,2501):\n",
    "     h2=fe2o3_enthalpy_3(T2)-fe2o3_enthalpy_1(T1)\n",
    "mol_per_ton_Fe2o3=1000000/mol_weight_fe2o3 # 1 ton= 10^6 grams \n",
    "h2_ton=h2*mol_per_ton_Fe2o3\n",
    "H2=((h2_ton))*m2 # Energy consumption in KJ\n",
    "print(\"Enthalpy of Iron ore in KJ/kg :\",h2_ton/1000)\n",
    "print(\" Enthalpy of iron ore in kJ :\",H2) \n"
   ]
  },
  {
   "cell_type": "markdown",
   "metadata": {},
   "source": [
    "### Energy required to heat the impurities from T1 to T2"
   ]
  },
  {
   "cell_type": "code",
   "execution_count": 5,
   "metadata": {},
   "outputs": [
    {
     "name": "stdout",
     "output_type": "stream",
     "text": [
      "Enthalpy of sio2 in KJ : 46349.74909107282\n"
     ]
    }
   ],
   "source": [
    "\"\"\"Enthalpy data for sio2/quartz : https://webbook.nist.gov/cgi/cbook.cgi?ID=C14808607&Mask=2\"\"\"\n",
    "def sio2_enthalpy(T):\n",
    "    t=T/1000\n",
    "    A=58.75\n",
    "    B=10.279\n",
    "    C=-0.131384\n",
    "    D=0.025210\n",
    "    E=0.025601\n",
    "    F=-929.3292\n",
    "    G=105.8092\n",
    "    H=-910.8568   \n",
    "    H_t=A*t +(B*t*t)/2 +(C*t*t*t)/3 + (D*t*t*t*t)/4-(E/t)+F-H\n",
    "    return H_t\n",
    "h1_sio2=sio2_enthalpy(T1) \n",
    "h2_sio2=sio2_enthalpy(T2) \n",
    "En_per_mol_sio2=h2_sio2-h1_sio2\n",
    "#print(\"Energy per mol\",En_per_mol)\n",
    "# 1 ton= 10^6 grams\n",
    "mol_per_ton_sio2=1000000/mol_weight_Sio2 \n",
    "#Energy per ton of SiO2 multiplied by the weight of sio2 \n",
    "En_sio2=(En_per_mol_sio2*mol_per_ton_sio2)*m1_sio2 \n",
    "H2_sio2=En_sio2 \n",
    "print(\"Enthalpy of sio2 in KJ :\",H2_sio2)"
   ]
  },
  {
   "cell_type": "code",
   "execution_count": 6,
   "metadata": {},
   "outputs": [
    {
     "name": "stdout",
     "output_type": "stream",
     "text": [
      "Energy to heat aluminium oxide: 32019.703860726615\n"
     ]
    }
   ],
   "source": [
    "\"\"\"Reference : https://webbook.nist.gov/cgi/cbook.cgi?ID=C1344281&Mask=2\"\"\"\n",
    "def Al2O3_enthalpy(T):\n",
    "    t=T/1000\n",
    "    A=106.0880\n",
    "    B=36.33740\n",
    "    C=-13.86730\n",
    "    D=2.141221\n",
    "    E=-3.133231\n",
    "    F=-1705.970\n",
    "    G=153.9350\n",
    "    H=-1662.300  \n",
    "    H_t=A*t +(B*t*t)/2 +(C*t*t*t)/3 + (D*t*t*t*t)/4-(E/t)+F-H\n",
    "    return H_t\n",
    "\n",
    "h1_al2o3=Al2O3_enthalpy(T1)\n",
    "h2_al2o3=Al2O3_enthalpy(T2) \n",
    "En_per_mol_al2o3=h2_al2o3-h1_al2o3\n",
    "#print(\"Energy per mole al2o3\",En_per_mol_al2o3)\n",
    "mol_per_ton_al2o3=1000000/mol_weight_al2o3 # 1 ton= 10^6 grams \n",
    "# Energy per ton of Al2O3 multiplied by the weight of Al2O3\n",
    "En_al2o3=En_per_mol_al2o3*mol_per_ton_al2o3*m1_al2o3 \n",
    "H2_al2o3=En_al2o3\n",
    "print(\"Energy to heat aluminium oxide:\",H2_al2o3) #In Kj/ton\n"
   ]
  },
  {
   "cell_type": "markdown",
   "metadata": {},
   "source": [
    "### Electrical energy required for heating the raw materials"
   ]
  },
  {
   "cell_type": "markdown",
   "metadata": {},
   "source": [
    "${EL1_{energy}=\\frac{(M_2*h_2)-(M_1*h_1)}{\\eta_{el}}}$ <br />\n",
    "Where,<br />\n",
    " $EL_{energy}$= Electrical energy required for heating the pellets in kJ <br />\n",
    " $(h_{Fe_{2}O_{3}})_{T_{reactor}}$= Specific enthalpy of iron ore at reactor temperature in kJ/kg <br />\n",
    " $(h_{Fe_{2}O_{3}})_{T_{ambient}}$= Specific enthalpy of iron ore at ambient temperature in kJ/kg <br />\n",
    " $\\eta_{el}$= Efficiency of the electrical heater <br />"
   ]
  },
  {
   "cell_type": "code",
   "execution_count": 7,
   "metadata": {},
   "outputs": [
    {
     "name": "stdout",
     "output_type": "stream",
     "text": [
      "Electrical energy required for heating the iron ore to reduction temperature (in KJ): 1570398.104896529\n",
      "Electrical energy required for heating the iron ore to reduction temperature (in KWH): 436.22169580459143\n"
     ]
    }
   ],
   "source": [
    "eta_el_heat=0.85 # Electrical heating efficiency \n",
    "EL1=(H2+H2_sio2+H2_al2o3)/eta_el_heat # In KJ\n",
    "print(\"Electrical energy required for heating the iron ore to reduction temperature (in KJ):\",EL1) # in KJ\n",
    "print(\"Electrical energy required for heating the iron ore to reduction temperature (in KWH):\",EL1/3600) # in KWh"
   ]
  },
  {
   "cell_type": "code",
   "execution_count": 8,
   "metadata": {},
   "outputs": [
    {
     "data": {
      "text/plain": [
       "370.7884414339027"
      ]
     },
     "execution_count": 8,
     "metadata": {},
     "output_type": "execute_result"
    }
   ],
   "source": [
    "(H2+H2_sio2+H2_al2o3 )/3600"
   ]
  },
  {
   "cell_type": "markdown",
   "metadata": {},
   "source": [
    "## Stochiometric calculations for the amount of Hydrogen required for reduction of iron\n",
    "\n",
    "Iron ore is reducd by hydrogen at a temperature of 800-900 C in an endothermic reaction using 99.5 kJ/mol.<br />\n",
    "$Fe_{2}O_{3}+ 3H_{2}---> 2Fe + 3H_{2}O$"
   ]
  },
  {
   "cell_type": "code",
   "execution_count": 9,
   "metadata": {},
   "outputs": [
    {
     "name": "stdout",
     "output_type": "stream",
     "text": [
      "Hydrogen required to produce 1 ton of iron in kg/ton of iron: 54.146655922643035\n"
     ]
    }
   ],
   "source": [
    "# to produce 1 mole of iron 2/3 rd mole of hydrogen are required\n",
    "H2_per_mol=3/2 \n",
    "# Weight of H2 for producing one mole of Fe in gms\n",
    "H2_weight=(H2_per_mol)*mol_weight_H2 \n",
    "# Number of moles in 1 ton of Fe\n",
    "mol_per_ton_fe=(1000000)/mol_weight_fe\n",
    "# Weight of hydrogen in kg to reduce 1 ton of Fe2O3\n",
    "m3=(H2_weight*mol_per_ton_fe)/1000 \n",
    "\n",
    "print(\"Hydrogen required to produce 1 ton of iron in kg/ton of iron:\",m3)"
   ]
  },
  {
   "cell_type": "markdown",
   "metadata": {},
   "source": [
    "### Hydrogen required for reduction of iron oxide for  1 ton of Fe production (Actual)\n",
    " Actual amount of hydrogen entering the shaft furnace is higher than the stoichiometric value.The ration between the actual value and the stoichiometric value is defined as lambda_h2 in these calculations. The graph below shows the variation of mass flow rate of hydrogen with lamda_h2. "
   ]
  },
  {
   "cell_type": "code",
   "execution_count": 10,
   "metadata": {},
   "outputs": [
    {
     "name": "stdout",
     "output_type": "stream",
     "text": [
      "Amount of actual hydrogen required for reduction of iron oxide to produce 1 ton of iron in kg : [54.146655922643035, 81.21998388396455, 108.29331184528607, 135.3666398066076, 162.4399677679291, 189.51329572925061, 216.58662369057214, 243.65995165189366, 270.7332796132152] [1.0, 1.5, 2.0, 2.5, 3.0, 3.5, 4.0, 4.5, 5.0]\n"
     ]
    }
   ],
   "source": [
    "# defining an empty list of lambda values \n",
    "lambda_h2=[] \n",
    " # defining an empty list of actual mass flow values for hydrogen inside the shaft furnace\n",
    "m3_act=[]\n",
    "# Iteratively add values to the list of lambda_h2 to see the effect of increasing lambda_h2\n",
    "for i in range(2,11):\n",
    "    lambda_h2.append(i/2) \n",
    "# Amount of actual hydrogen required for reduction of iron oxide to produce 1 ton of iron\n",
    "for i in range(len(lambda_h2)):\n",
    "    m3_act.append(m3*lambda_h2[i]) \n",
    "print(\"Amount of actual hydrogen required for reduction of iron oxide to produce 1 ton of iron in kg :\",  m3_act,lambda_h2)"
   ]
  },
  {
   "cell_type": "code",
   "execution_count": 11,
   "metadata": {},
   "outputs": [
    {
     "data": {
      "image/png": "[encoded data removed]",
      "text/plain": [
       "<Figure size 432x288 with 1 Axes>"
      ]
     },
     "metadata": {
      "needs_background": "light"
     },
     "output_type": "display_data"
    }
   ],
   "source": [
    "plt.plot(lambda_h2,m3_act)\n",
    "plt.xlabel('Lambda')\n",
    "plt.ylabel('Flow rate of H2 kg/tls')\n",
    "plt.savefig('Flow rate of hydrogen variation with lambda.svg')\n",
    "plt.savefig('Flow rate of hydrogen variation with lambda.pdf')\n",
    "plt.show()"
   ]
  },
  {
   "cell_type": "markdown",
   "metadata": {},
   "source": [
    "## Mass flow rate of waste gases from the shaft furnace "
   ]
  },
  {
   "cell_type": "markdown",
   "metadata": {},
   "source": [
    "It is assumed that the waste gas stream is a mixture of unreacted hydrogen and water/steam produced from the reduction reaction. Amount of water produced would depend on the metallization rate. For ease of calculations, it is assumed that metallization is complete. Amount of unused hydrogen in the waste stream depends on the amount of hydrogen entering the shaft furnace or lambda_h2.\n",
    "\n",
    "Hydrogen is separated from the waste gas stream is mixed with the incoming hydrogen from the electrolyser.The mixed stream is heated to a temperature of 800-900 C and is fed to the shaft furnace.Water separated from the waste stream is fed back to the electrolyser.Hydrogen can be fed back to the shaft furnace from the storage to provide flexibility to the grid.It is not considered in the calculations as only steady state calculations are done in this analysis. "
   ]
  },
  {
   "cell_type": "code",
   "execution_count": 12,
   "metadata": {},
   "outputs": [
    {
     "name": "stdout",
     "output_type": "stream",
     "text": [
      "Amount of water in the waste stream per ton of steel production in kg/tls 483.89202256244965\n",
      "Amount of hydrogen in the waste stream per ton of steel production in kg/tls [0.0, 27.073327961321517, 54.146655922643035, 81.21998388396455, 108.29331184528607, 135.3666398066076, 162.4399677679291, 189.51329572925061, 216.58662369057214] [483.89202256244965, 483.89202256244965, 483.89202256244965, 483.89202256244965, 483.89202256244965, 483.89202256244965, 483.89202256244965, 483.89202256244965, 483.89202256244965]\n"
     ]
    }
   ],
   "source": [
    "# Mass flow rate of water in the waste stream per ton of steel production\n",
    "\n",
    "water_tls=((3*mol_weight_H2O)/(2*mol_weight_fe))*1000\n",
    "print(\"Amount of water in the waste stream per ton of steel production in kg/tls\",water_tls)\n",
    "## Calculation of the hydrogen in the waste stream \n",
    "m5_h2=[]\n",
    "m5_h2o=[]\n",
    "for j in range(len(lambda_h2)):\n",
    "    m5_h2.append(m3*(lambda_h2[j]-1)) #Kg/tls\n",
    "    m5_h2o.append(water_tls)\n",
    "# The value varies with input flow rate of hydrogen inside the shaft furnace\n",
    "print(\"Amount of hydrogen in the waste stream per ton of steel production in kg/tls\",m5_h2,m5_h2o)"
   ]
  },
  {
   "cell_type": "code",
   "execution_count": 13,
   "metadata": {},
   "outputs": [
    {
     "data": {
      "image/png": "[encoded data removed]",
      "text/plain": [
       "<Figure size 432x288 with 1 Axes>"
      ]
     },
     "metadata": {
      "needs_background": "light"
     },
     "output_type": "display_data"
    }
   ],
   "source": [
    "plt.plot(lambda_h2,m5_h2,label='Hydrogen')\n",
    "plt.plot(lambda_h2,m5_h2o,label='Water/steam')\n",
    "plt.xlabel('Lambda value / Mass flow rate of input hydrogen stream')\n",
    "plt.ylabel('Flow rate of H2/tls in the waste stream')\n",
    "plt.savefig('Flow rate of Waste stream variation with lambda.svg')\n",
    "plt.savefig('Flow rate of Waste stream variation with lambda.pdf')\n",
    "plt.legend()\n",
    "plt.show()"
   ]
  },
  {
   "cell_type": "markdown",
   "metadata": {},
   "source": [
    "## Energy contained in the waste stream"
   ]
  },
  {
   "cell_type": "markdown",
   "metadata": {},
   "source": [
    "Temperature of the waste gas stream could vary according to the input temperature and flow rate of the hydrogen stream.Plant data from Syngas based DRI shaft furnace show that the temperature could vary from 275 C to 400 C.Higher temperatures are witnessed when the content of CO in the Syngas is higher.The reduction reaction between heamtite and CO is exothermic.On the other hand , hyrogen reduction of hematite is endothermic.We could assume a temperature of 350 C for the calculation of energy content in the waste gas stream.Hydrogen from the waste stream is fed back to the electrical heating system , where it gets mixed with hydrogen coming from the electrolyser output.Energy required to separate the two streams has not been considered in the present calculations. "
   ]
  },
  {
   "cell_type": "code",
   "execution_count": 14,
   "metadata": {},
   "outputs": [],
   "source": [
    "# K Temperature of the exhaust gas leaving the reduction shaft furnace\n",
    "T5=523"
   ]
  },
  {
   "cell_type": "markdown",
   "metadata": {},
   "source": [
    "### Energy contained in water stream"
   ]
  },
  {
   "cell_type": "code",
   "execution_count": 15,
   "metadata": {},
   "outputs": [
    {
     "name": "stdout",
     "output_type": "stream",
     "text": [
      "Enthalpy per Kg of Water in kJ/kg at T5: 429.4931546384586\n",
      "Enthalpy in water stream per Kg of steel in kJ: [207828.3112747307, 207828.3112747307, 207828.3112747307, 207828.3112747307, 207828.3112747307, 207828.3112747307, 207828.3112747307, 207828.3112747307, 207828.3112747307]\n"
     ]
    }
   ],
   "source": [
    "# Reference :https://webbook.nist.gov/cgi/cbook.cgi?ID=C7732185&Mask=1\n",
    "\n",
    "def H2O_enthalpy(T):\n",
    "    t=T/1000\n",
    "    A=30.09200\n",
    "    B=6.832514\n",
    "    C=6.793435\n",
    "    D=-2.534480\n",
    "    E=0.082139\n",
    "    F=-250.8810\n",
    "    G=223.3967\n",
    "    H=-241.8264\n",
    "    H_t=A*t +(B*t*t)/2 +(C*t*t*t)/3 + (D*t*t*t*t)/4-(E/t)+F-H\n",
    "    return H_t\n",
    "H2O_en_per_mol=H2O_enthalpy(T5)\n",
    "mol_per_kg_H2O=1000/mol_weight_H2O # Number of moles in one kg\n",
    "h5_h2o=(mol_per_kg_H2O)*(H2O_en_per_mol)\n",
    "\n",
    "print(\"Enthalpy per Kg of Water in kJ/kg at T5:\",h5_h2o)\n",
    "# Multiplying the specific enthalpy with mass flow rate \n",
    "H5_h2o=[]\n",
    "for i in range(len(m5_h2o)):\n",
    "    H5_h2o.append(m5_h2o[i]*h5_h2o)\n",
    "\n",
    "print(\"Enthalpy in water stream per Kg of steel in kJ:\",H5_h2o)"
   ]
  },
  {
   "cell_type": "markdown",
   "metadata": {},
   "source": [
    "### Energy in the hydrogen from the waste stream"
   ]
  },
  {
   "cell_type": "code",
   "execution_count": 16,
   "metadata": {},
   "outputs": [
    {
     "name": "stdout",
     "output_type": "stream",
     "text": [
      "Enthalpy per Kg of hydrogen in kJ/kg at T5: 3251.9126703940874\n",
      "Enthalpy per Kg of hydrogen in kJ : [0.0, 88040.09822715598, 176080.19645431195, 264120.2946814679, 352160.3929086239, 440200.4911357799, 528240.5893629357, 616280.6875900917, 704320.7858172478]\n",
      "Enthalpy per Kg of hydrogen in KWh : 24.45558284087666\n"
     ]
    }
   ],
   "source": [
    "def H2_enthalpy_1(T):# T1 and T2 should be in the range of 298-1000 K \n",
    "    t=T/1000\n",
    "    A=33.066718\n",
    "    B=-11.363417\n",
    "    C=11.432816\n",
    "    D=-2.772874\n",
    "    E=-0.158558\n",
    "    F=-9.980797\n",
    "    G=172.707974\n",
    "    H=0\n",
    "    H_t=A*t +(B*t*t)/2 +(C*t*t*t)/3 + (D*t*t*t*t)/4-(E/t)+F-H\n",
    "    return H_t\n",
    "H2_en_per_mol=H2_enthalpy_1(T5)     \n",
    "#mol_per_kg_H2=(1000/mol_weight_H2) # Number of moles in one kg \n",
    "h5_h2=((1000/mol_weight_H2)*H2_en_per_mol)\n",
    "H5_h2=[]\n",
    "for i in range(len(m5_h2)):\n",
    "    H5_h2.append(h5_h2*(m5_h2[i]))\n",
    "print(\"Enthalpy per Kg of hydrogen in kJ/kg at T5:\",h5_h2)\n",
    "print(\"Enthalpy per Kg of hydrogen in kJ :\",H5_h2)\n",
    "print(\"Enthalpy per Kg of hydrogen in KWh :\",H5_h2[1]/3600)\n"
   ]
  },
  {
   "cell_type": "markdown",
   "metadata": {},
   "source": [
    "### Total energy content of the waste stream"
   ]
  },
  {
   "cell_type": "code",
   "execution_count": 17,
   "metadata": {},
   "outputs": [
    {
     "name": "stdout",
     "output_type": "stream",
     "text": [
      "Energy contained in the waste stream in kJ [207828.3112747307, 295868.4095018867, 383908.50772904267, 471948.60595619853, 559988.7041833546, 648028.8024105106, 736068.9006376665, 824108.9988648224, 912149.0970919785]\n",
      "Energy contained in the waste stream in KWh [57.730086465202966, 82.18566930607963, 106.64125214695629, 131.09683498783292, 155.55241782870962, 180.00800066958627, 204.4635835104629, 228.91916635133956, 253.37474919221626]\n"
     ]
    }
   ],
   "source": [
    "H5=[]\n",
    "for i in range(len(H5_h2)):\n",
    "    H5.append((H5_h2[i]+H5_h2o[i]))\n",
    "print(\"Energy contained in the waste stream in kJ\",H5)\n",
    "H5_KWh=[]\n",
    "for i in range(len(H5)):\n",
    "    H5_KWh.append(H5[i]/3600)\n",
    "print(\"Energy contained in the waste stream in KWh\",H5_KWh )"
   ]
  },
  {
   "cell_type": "markdown",
   "metadata": {},
   "source": [
    "### Plot for the Hydrogen energy variation"
   ]
  },
  {
   "cell_type": "code",
   "execution_count": 18,
   "metadata": {},
   "outputs": [
    {
     "data": {
      "image/png": "[encoded data removed]",
      "text/plain": [
       "<Figure size 432x288 with 1 Axes>"
      ]
     },
     "metadata": {
      "needs_background": "light"
     },
     "output_type": "display_data"
    }
   ],
   "source": [
    "plt.plot(lambda_h2,H5,label='Waste stream energy')\n",
    "plt.plot(lambda_h2,H5_h2,label='Waste stream hydrogen')\n",
    "plt.plot(lambda_h2,H5_h2o,label='Waste stream water/steam')\n",
    "plt.xlabel('Lambda value')\n",
    "plt.title('Waste stream energy variation with hydrogen flow (lambda)')\n",
    "plt.ylabel('Energy content in the waste stream in kJ')\n",
    "plt.savefig('Energy content in waste stream with lambda.svg')\n",
    "plt.savefig('Energy content in waste stream with lambda.pdf')\n",
    "plt.legend()\n",
    "plt.show()"
   ]
  },
  {
   "cell_type": "markdown",
   "metadata": {},
   "source": [
    "## Reaction enthalpy calculation\n",
    "The reaction enthalpy has been taken as 99.5 kJ/mol based on stoichiometric calculations.Activation enethalpy has not been considered in these calculations."
   ]
  },
  {
   "cell_type": "code",
   "execution_count": 19,
   "metadata": {},
   "outputs": [
    {
     "name": "stdout",
     "output_type": "stream",
     "text": [
      "Reaction enthalpy in kJ/ton of liquid steel: 1203239.1735312433\n",
      "Reaction enthalpy in KWh/ton of liquid steel: 334.2331037586787\n"
     ]
    }
   ],
   "source": [
    "h_activation=35 # kJ/mol activation enthalpy\n",
    "h_endothermic=99.5 # reaction enthalpy kJ/mol\n",
    "#Adding the activation enthalpy to the reaction enthalpy\n",
    "# value in kJ/mol\n",
    "h_reaction=h_activation+h_endothermic\n",
    "# Amount of heat to be supplied in kJ for production of 1 ton of molten steel\n",
    "h_reac=(h_reaction*m1*fe2O3_pure*alpha*1000000)/mol_weight_fe2o3\n",
    "print(\"Reaction enthalpy in kJ/ton of liquid steel:\",h_reac) \n",
    "print(\"Reaction enthalpy in KWh/ton of liquid steel:\",h_reac/3600) "
   ]
  },
  {
   "cell_type": "markdown",
   "metadata": {},
   "source": [
    "## Energy contained in the solid stream exiting the DRI\n",
    "It is assumed that the solid stream is a mixture of iron, iron oxide and impurities such as silica and alumina. The solid stream exits the reactor at a temperature of 700 C."
   ]
  },
  {
   "cell_type": "markdown",
   "metadata": {},
   "source": [
    "\"\"\"Enthalpy of the residual FeO in the slag stream : https://webbook.nist.gov/cgi/cbook.cgi?ID=C1345251&Mask=2\"\"\""
   ]
  },
  {
   "cell_type": "code",
   "execution_count": 20,
   "metadata": {},
   "outputs": [
    {
     "name": "stdout",
     "output_type": "stream",
     "text": [
      "33011.65694158678\n"
     ]
    }
   ],
   "source": [
    "# The constants are used for a temperature range of 298-1650 K \n",
    "# Exit temperature of the FeO stream contained in the solid stream exiting the reactor\n",
    "\n",
    "T4=973 \n",
    "\n",
    "def feo_enthalpy(T):\n",
    "    t=T/1000\n",
    "    A=45.75120\n",
    "    B=18.78553\n",
    "    C=-5.952201\n",
    "    D=0.852779\n",
    "    E=-0.081265\n",
    "    F=-286.7429\n",
    "    G=110.3120\n",
    "    H=-272.0441\n",
    "    H_t=A*t +(B*t*t)/2 +(C*t*t*t)/3 + (D*t*t*t*t)/4-(E/t)+F-H\n",
    "    return H_t\n",
    "h4_feo_mol=(feo_enthalpy(T4)) \n",
    "mol_per_ton_feo=1000000/mol_weight_feo# 1 ton= 10^6 grams\n",
    "\n",
    "h4_feo_ton=(h4_feo_mol*mol_per_ton_feo) \n",
    "\n",
    "H4_feo=(h4_feo_ton*m4_feo)\n",
    "print(H4_feo)\n",
    "        #print(\"Temperature\",T_dri_exit[j])\n",
    "        #print(\"alpha\",alpha[i])\n",
    "#print(\"Energy per mole feo :\",En_per_mol_feo)\n",
    "#print(\"Energy per ton feo :\",En_per_ton_feo)\n",
    "#print(\"Energy contained in the feo stream exiting the reactor\",En_feo) #In Kj/tls\n"
   ]
  },
  {
   "cell_type": "markdown",
   "metadata": {},
   "source": [
    "\n",
    "### Energy contained in the iron ore stream"
   ]
  },
  {
   "cell_type": "code",
   "execution_count": 21,
   "metadata": {},
   "outputs": [
    {
     "name": "stdout",
     "output_type": "stream",
     "text": [
      "Total energy in the outgoing metallic stream in kJ 386996.0250956291 1.0638297872340428\n"
     ]
    }
   ],
   "source": [
    "\n",
    "### Energy contained in the iron ore stream\n",
    "\n",
    "def fe_enthalpy(T):\n",
    "    t=T/1000\n",
    "    A=23.97449\n",
    "    B=8.367750\n",
    "    C=0.000277\n",
    "    D=-0.000088\n",
    "    E=-0.000005\n",
    "    F=0.268027\n",
    "    G=62.06336\n",
    "    H=7.788015    \n",
    "    H_t=A*t +(B*t*t)/2 +(C*t*t*t)/3 + (D*t*t*t*t)/4-(E/t)+F-H\n",
    "    return H_t\n",
    "\n",
    "h4_fe_mol=(fe_enthalpy(T4))# Enthalpy of direct reduced iron at the output of the reactor\n",
    "mol_per_ton_fe=1000000/mol_weight_fe # 1 ton= 10^6 grams\n",
    "m4_fe=m1*fe2O3_pure*alpha*Fe_O_ratio\n",
    "H4_fe=(h4_fe_mol*mol_per_ton_fe*m4_fe)\n",
    "H4=(H4_fe+H4_feo)\n",
    "m4=m4_fe+m4_feo\n",
    "m4\n",
    "print(\"Total energy in the outgoing metallic stream in kJ\",H4,m4)"
   ]
  },
  {
   "cell_type": "markdown",
   "metadata": {},
   "source": [
    "### Energy contained in the solid stream (H4)"
   ]
  },
  {
   "cell_type": "code",
   "execution_count": 22,
   "metadata": {},
   "outputs": [
    {
     "name": "stdout",
     "output_type": "stream",
     "text": [
      "Total energy in the outgoing metallic stream in kJ 386996.0250956291\n",
      "Total energy in the outgoing metallic stream in KWh 107.49889585989698\n"
     ]
    }
   ],
   "source": [
    "H4=(H4_fe+H4_feo)\n",
    "print(\"Total energy in the outgoing metallic stream in kJ\",H4)\n",
    "print(\"Total energy in the outgoing metallic stream in KWh\",H4/3600)"
   ]
  },
  {
   "cell_type": "markdown",
   "metadata": {},
   "source": [
    "## Energy contained in the hydrogen stream\n",
    "\n",
    "Hydrogen stream entering the DRI shaft is a mixture of m13_h2, which is the output hydrogen stream from the electrolyser. It mixes with the hydrogen stream separated from the water-h2 separator and is represented as m12_h2. Although, not considered in the present model, hydrogen stored in the pressurized tanks can also be used in the shaft furnace. Temperature of these ouput streams vary. It can be assumed that 40%-80% of the hydrogen in the waste stream is captured and is fed back to the shaft furnace after mixing with the hydrogen stream coming from the electrolyser. For ease of calculation we consider it to be a fixed value of 60% in the present model. Energy consumption of the electrolyser will change with the change in amount of hydrogen adsorbed as the remaining amount has to be supplied through the electrolyser. "
   ]
  },
  {
   "cell_type": "code",
   "execution_count": 23,
   "metadata": {},
   "outputs": [
    {
     "name": "stdout",
     "output_type": "stream",
     "text": [
      "[54.146655922643035, 81.21998388396455, 108.29331184528607, 135.3666398066076, 162.4399677679291, 189.51329572925061, 216.58662369057214, 243.65995165189366, 270.7332796132152]\n",
      "[0.0, 27.073327961321517, 54.146655922643035, 81.21998388396455, 108.29331184528607, 135.3666398066076, 162.4399677679291, 189.51329572925061, 216.58662369057214]\n",
      "[0.0, 21.658662369057215, 43.31732473811443, 64.97598710717163, 86.63464947622886, 108.29331184528608, 129.95197421434327, 151.6106365834005, 173.26929895245772]\n",
      "Hydrogen to be generated in the electrolyser [54.146655922643035, 59.561321514907334, 64.97598710717165, 70.39065269943596, 75.80531829170023, 81.21998388396453, 86.63464947622887, 92.04931506849317, 97.46398066075747]\n"
     ]
    }
   ],
   "source": [
    "\n",
    "m15=0 # hydrogen storage is not considered in the present model\n",
    "m12_h2=[]\n",
    "for i in range(len(m5_h2)):\n",
    "    m12_h2.append(m5_h2[i]*0.8) \n",
    "#m3=m12_h2+m13_h2+m15 # M3 can either be fixed or varied we can carry out a parametric evaluation\n",
    "m13_h2=[]\n",
    "for i in range(len(lambda_h2)):\n",
    "    m13_h2.append(m3_act[i]-(m12_h2[i]+m15))\n",
    "print(m3_act)\n",
    "print(m5_h2)\n",
    "print(m12_h2)\n",
    "print(\"Hydrogen to be generated in the electrolyser\",m13_h2)"
   ]
  },
  {
   "cell_type": "markdown",
   "metadata": {},
   "source": [
    "### Specific enthalpy calculation of hydrogen at T3"
   ]
  },
  {
   "cell_type": "code",
   "execution_count": 24,
   "metadata": {},
   "outputs": [
    {
     "name": "stdout",
     "output_type": "stream",
     "text": [
      "Enthalpy per Kg of input  hydrogen at 773 K in kJ/kg 6896.560067779419\n"
     ]
    }
   ],
   "source": [
    "T3=773\n",
    "def H2_enthalpy_1(T):# T1 and T2 should be in the range of 298-1000 K \n",
    "    t=T/1000\n",
    "    A=33.066718\n",
    "    B=-11.363417\n",
    "    C=11.432816\n",
    "    D=-2.772874\n",
    "    E=-0.158558\n",
    "    F=-9.980797\n",
    "    G=172.707974\n",
    "    H=0\n",
    "    H_t=A*t +(B*t*t)/2 +(C*t*t*t)/3 + (D*t*t*t*t)/4-(E/t)+F-H\n",
    "    return H_t\n",
    "\n",
    "def H2_enthalpy_2(T):# T1 and T2 should be in the range of 1050-2500 K \n",
    "    t=T/1000\n",
    "    A=18.563083\n",
    "    B=12.257357\n",
    "    C=-2.859786\n",
    "    D=0.268238\n",
    "    E=1.977990\n",
    "    F=-1.147438\n",
    "    G=156.288133\n",
    "    H=0\n",
    "    H_t=A*t +(B*t*t)/2 +(C*t*t*t)/3 + (D*t*t*t*t)/4-(E/t)+F-H\n",
    "    return H_t\n",
    "H2_in_en_per_mol=[]\n",
    "H2_in_en_per_kg=[]\n",
    "if T3 in range(298,1001):\n",
    "        H2_in_en_per_mol=H2_enthalpy_1(T3)\n",
    "elif T3 in range(1001,2501):\n",
    "        H2_in_en_per_mol=H2_enthalpy_2(T3)\n",
    "mol_per_kg_H2=1000/mol_weight_H2 # Number of moles in one kg \n",
    "\n",
    "h3=(mol_per_kg_H2*H2_in_en_per_mol)\n",
    "print(\"Enthalpy per Kg of input  hydrogen at\",T3,\"K in kJ/kg\",h3)"
   ]
  },
  {
   "cell_type": "code",
   "execution_count": 25,
   "metadata": {},
   "outputs": [
    {
     "data": {
      "text/plain": [
       "[103.72935139996999,\n",
       " 155.59402709995496,\n",
       " 207.45870279993997,\n",
       " 259.32337849992496,\n",
       " 311.1880541999099,\n",
       " 363.0527298998949,\n",
       " 414.91740559987994,\n",
       " 466.78208129986496,\n",
       " 518.6467569998499]"
      ]
     },
     "execution_count": 25,
     "metadata": {},
     "output_type": "execute_result"
    }
   ],
   "source": [
    "H3=[]\n",
    "H3_kwh=[] ## For ease of representation\n",
    "for i in range(len(m13_h2)):\n",
    "    H3.append(m3_act[i]*h3)\n",
    "    H3_kwh.append((m3_act[i]*h3)/3600)\n",
    "H3_kwh"
   ]
  },
  {
   "cell_type": "code",
   "execution_count": 26,
   "metadata": {},
   "outputs": [
    {
     "data": {
      "image/png": "[encoded data removed]",
      "text/plain": [
       "<Figure size 432x288 with 1 Axes>"
      ]
     },
     "metadata": {
      "needs_background": "light"
     },
     "output_type": "display_data"
    }
   ],
   "source": [
    "plt.plot(lambda_h2,H3_kwh,label='Hydrogen input enthalpy')\n",
    "plt.xlabel('Lambda value')\n",
    "plt.title('Hydrogen input enthalpy variation with lambda at T3 in MJ')\n",
    "plt.ylabel('Energy content in the Hydrogen stream in MJ')\n",
    "plt.savefig('Energy content in input hydrogen stream with lambda.svg')\n",
    "plt.savefig('Energy content in input  stream with lambda.pdf')\n",
    "plt.legend()\n",
    "plt.show()"
   ]
  },
  {
   "cell_type": "code",
   "execution_count": 27,
   "metadata": {},
   "outputs": [
    {
     "data": {
      "text/plain": [
       "[2.4647996092023448,\n",
       " 29.8738924683107,\n",
       " 57.282985327419084,\n",
       " 84.6920781865274,\n",
       " 112.10117104563565,\n",
       " 139.51026390474414,\n",
       " 166.9193567638524]"
      ]
     },
     "execution_count": 27,
     "metadata": {},
     "output_type": "execute_result"
    }
   ],
   "source": [
    "heat_loss=[]\n",
    "for i in range(1,8):\n",
    "    heat_loss.append((H3_kwh[i]+((H2+H2_sio2+H2_al2o3)/3600))-(H4/3600)-(h_reac/3600)-(H5_KWh[i]))\n",
    "    \n",
    "heat_loss\n",
    "\n",
    "\n"
   ]
  },
  {
   "cell_type": "markdown",
   "metadata": {},
   "source": [
    "## Electrolyser : Mass and energy flow"
   ]
  },
  {
   "cell_type": "code",
   "execution_count": 28,
   "metadata": {},
   "outputs": [
    {
     "name": "stdout",
     "output_type": "stream",
     "text": [
      "Electricity consumed by the electrolyser [2436.5995165189365, 2680.25946817083, 2923.919419822724, 3167.5793714746183, 3411.2393231265105, 3654.899274778404, 3898.559226430299, 4142.219178082193, 4385.879129734086]\n",
      "Water required for the electrolyser [595.6132151490734, 655.1745366639807, 714.7358581788881, 774.2971796937956, 833.8585012087026, 893.4198227236099, 952.9811442385176, 1012.542465753425, 1072.103787268332]\n"
     ]
    },
    {
     "data": {
      "text/plain": [
       "[111.72119258662377,\n",
       " 171.28251410153104,\n",
       " 230.8438356164384,\n",
       " 290.4051571313459,\n",
       " 349.96647864625294,\n",
       " 409.5278001611602,\n",
       " 469.0891216760679,\n",
       " 528.6504431909752,\n",
       " 588.2117647058824]"
      ]
     },
     "execution_count": 28,
     "metadata": {},
     "output_type": "execute_result"
    }
   ],
   "source": [
    "el_spec=45 # 50 KWH/Kg of hydrogen \n",
    "water_spec=11 #11 litres of water is required for production of 1 kg of hydrogen \n",
    "EL2_elec=[]\n",
    "water_total=[]\n",
    "m14_h2o=[]\n",
    "for i in range(len(m13_h2)):\n",
    "    EL2_elec.append(m13_h2[i]*el_spec)\n",
    "    water_total.append(m13_h2[i]*water_spec)\n",
    "    m14_h2o.append(water_total[i]-m5_h2o[i])\n",
    "print(\"Electricity consumed by the electrolyser\",EL2_elec) # in KWh\n",
    "print(\"Water required for the electrolyser\",water_total)\n",
    "m14_h2o\n"
   ]
  },
  {
   "cell_type": "code",
   "execution_count": 29,
   "metadata": {},
   "outputs": [
    {
     "data": {
      "image/png": "[encoded data removed]",
      "text/plain": [
       "<Figure size 432x288 with 2 Axes>"
      ]
     },
     "metadata": {
      "needs_background": "light"
     },
     "output_type": "display_data"
    }
   ],
   "source": [
    "fig, ax1 = plt.subplots()\n",
    "ax2 = ax1.twinx()\n",
    "ax1.plot(lambda_h2,EL2_elec,'g-',label='Electricity demand')\n",
    "ax2.plot(lambda_h2,m13_h2,'b-',label='Hydrogen produced')\n",
    "ax1.set_xlabel('lambda_h2')\n",
    "ax1.set_ylabel('Electricity demand for electrolyser in KWh', color='b')\n",
    "ax2.set_ylabel('Hydrogen produced in the electrolsyer in kg', color='b')\n",
    "plt.savefig('Electrolyser energy demand.svg')\n",
    "plt.savefig('Electrolyser energy demand.pdf')\n",
    "plt.show()\n"
   ]
  },
  {
   "cell_type": "code",
   "execution_count": 30,
   "metadata": {},
   "outputs": [
    {
     "data": {
      "image/png": "[encoded data removed]",
      "text/plain": [
       "<Figure size 432x288 with 2 Axes>"
      ]
     },
     "metadata": {
      "needs_background": "light"
     },
     "output_type": "display_data"
    }
   ],
   "source": [
    "fig, ax1 = plt.subplots()\n",
    "ax2 = ax1.twinx()\n",
    "ax1.plot(lambda_h2,water_total,'g-',label='Water demand')\n",
    "ax2.plot(lambda_h2,m13_h2,'b-',label='Hydrogen produced')\n",
    "ax1.set_xlabel('lambda_h2')\n",
    "ax1.set_ylabel('Water demand for electrolyser in Kg', color='g')\n",
    "ax2.set_ylabel('Hydrogen produced in the electrolsyer in kg', color='g')\n",
    "plt.savefig('water demand.svg')\n",
    "plt.savefig('water demand.pdf')\n",
    "plt.show()"
   ]
  },
  {
   "cell_type": "markdown",
   "metadata": {},
   "source": [
    "### Energy required to heat the hydrogen stream m3 to T3\n",
    "\n",
    "Hydrogen coming from the electrolyser is assumed to be at T13=90 C. Hydrogen is separated from water stream in the waste gas stream in the water-H2 separator and comes in the heater at 90 C. Both are mixed and heated to a temperature of T3.To find the electricity energy required for heating , we would find the difference between H3 and H12 and H13. Electrical heating efficiency of 0.6 has been considered as hydrogen has low thermal conductivity. "
   ]
  },
  {
   "cell_type": "code",
   "execution_count": 31,
   "metadata": {},
   "outputs": [
    {
     "name": "stdout",
     "output_type": "stream",
     "text": [
      "[0.0, 20207.3216475883, 40414.6432951766, 60621.964942764884, 80829.2865903532, 101036.6082379415, 121243.92988552977, 141451.25153311808, 161658.5731807064] [176080.19645431195, 193688.21609974312, 211296.23574517434, 228904.25539060557, 246512.27503603665, 264120.2946814678, 281728.3143268992, 299336.3339723303, 316944.3536177615]\n"
     ]
    }
   ],
   "source": [
    "T12=363 # 90 C\n",
    "T13=523# 350 C\n",
    "def H2_enthalpy_1(T):# T1 and T2 should be in the range of 298-1000 K \n",
    "    t=T/1000\n",
    "    A=33.066718\n",
    "    B=-11.363417\n",
    "    C=11.432816\n",
    "    D=-2.772874\n",
    "    E=-0.158558\n",
    "    F=-9.980797\n",
    "    G=172.707974\n",
    "    H=0\n",
    "    H_t=A*t +(B*t*t)/2 +(C*t*t*t)/3 + (D*t*t*t*t)/4-(E/t)+F-H\n",
    "    return H_t\n",
    "\n",
    "def H2_enthalpy_2(T):# T1 and T2 should be in the range of 1050-2500 K \n",
    "    t=T/1000\n",
    "    A=18.563083\n",
    "    B=12.257357\n",
    "    C=-2.859786\n",
    "    D=0.268238\n",
    "    E=1.977990\n",
    "    F=-1.147438\n",
    "    G=156.288133\n",
    "    H=0\n",
    "    H_t=A*t +(B*t*t)/2 +(C*t*t*t)/3 + (D*t*t*t*t)/4-(E/t)+F-H\n",
    "    return H_t\n",
    "h12_h2_mol=[]\n",
    "h13_h2_mol=[]\n",
    "h12=[] #specific enthalpy in kJ/kg\n",
    "h13=[] #specific enthalpy in kJ/kg\n",
    "if T12 in range(298,1001):\n",
    "        h12_h2_mol=H2_enthalpy_1(T12)\n",
    "if T13 in range(298,1001):\n",
    "        h13_h2_mol=H2_enthalpy_1(T13)\n",
    "elif T12 in range(1001,2501):\n",
    "        h12_h2_mol=H2_enthalpy_1(T12)\n",
    "elif T13 in range(1001,2501):\n",
    "        h13_h2_mol=H2_enthalpy_1(T13)\n",
    "mol_per_kg_H2=1000/mol_weight_H2 # Number of moles in one kg \n",
    "\n",
    "h12=(mol_per_kg_H2*h12_h2_mol)\n",
    "h13=(mol_per_kg_H2*h13_h2_mol)\n",
    "h12,h13\n",
    "H12=[]\n",
    "H13=[]\n",
    "for i in range(len(m12_h2)):\n",
    "    H12.append(m12_h2[i]*h12)\n",
    "    H13.append(m13_h2[i]*h13)\n",
    "print(H12,H13)"
   ]
  },
  {
   "cell_type": "markdown",
   "metadata": {},
   "source": [
    "### Electrical energy required to heat the hydrogen stream to T3"
   ]
  },
  {
   "cell_type": "code",
   "execution_count": 32,
   "metadata": {},
   "outputs": [
    {
     "data": {
      "text/plain": [
       "[91.36364286369445,\n",
       " 160.29766657986409,\n",
       " 229.23169029603383,\n",
       " 298.16571401220347,\n",
       " 367.09973772837316,\n",
       " 436.0337614445428,\n",
       " 504.9677851607124,\n",
       " 573.9018088768821,\n",
       " 642.8358325930518]"
      ]
     },
     "execution_count": 32,
     "metadata": {},
     "output_type": "execute_result"
    }
   ],
   "source": [
    "\n",
    "EL3=[] \n",
    "eta_el_3=0.6\n",
    "for i in range(len(H3)):\n",
    "    EL3.append((((H3[i]-(H12[i]+H13[i]))/eta_el_3))/3600)\n",
    "    \n",
    "EL3\n",
    "    "
   ]
  },
  {
   "cell_type": "code",
   "execution_count": 33,
   "metadata": {},
   "outputs": [
    {
     "data": {
      "image/png": "[encoded data removed]",
      "text/plain": [
       "<Figure size 432x288 with 2 Axes>"
      ]
     },
     "metadata": {
      "needs_background": "light"
     },
     "output_type": "display_data"
    }
   ],
   "source": [
    "fig, ax1 = plt.subplots()\n",
    "ax2 = ax1.twinx()\n",
    "ax1.plot(lambda_h2,EL3,'g-')\n",
    "ax2.plot(lambda_h2,m13_h2,'b-')\n",
    "ax1.set_xlabel('lambda_h2')\n",
    "ax1.set_ylabel('Electricity required to heat Hydrogen', color='g')\n",
    "ax2.set_ylabel('Hydrogen produced in the electrolsyer in kg', color='g')\n",
    "plt.savefig('Electricity required to heat Hydrogen.svg')\n",
    "plt.savefig('Electricity required to heat Hydrogen.pdf')\n",
    "plt.show()"
   ]
  },
  {
   "cell_type": "markdown",
   "metadata": {},
   "source": [
    "## Electric arc furnace mass and energy balance "
   ]
  },
  {
   "cell_type": "markdown",
   "metadata": {},
   "source": [
    "\n",
    "Electric energy is required to melt the incoming iron stream or DRI from the shaft furnace. Carbon is used to reduce the remaining FeO in the iron stream. It is an exothermic reaction and produces heat. It is assumed that the incoming DRI is at a temperature of 700 C. This reduces the electricity required to melt the DRI. Apart from the heat supplied to the molten metal, the impurities get heated up and consume significant amount of electricity. The different equations and the modelling concept for the EAF is explained through the equations below :\n",
    "\n",
    "The modelling work is baseed on the  https://www.sciencedirect.com/science/article/pii/S036054421100524X. <br/>\n",
    "**_EAF energy balance  - Equation 1_**<br/>\n",
    "\n",
    "\n",
    "$\\begin{equation} \\label{Energy balance in EAF}\\large E_{total}=E_{in}=\\large \\int_{\\small charging}^{\\small tapping} P_{\\small electric} dt + \\Delta H_{\\small oxygen \\ injection} + \\Delta H_{\\small ng_burners} = E_{out}=\\Delta H_{\\small steel }+ \\Delta H_{\\small slag } + \\large\\int\\Delta H^._{\\small off-gas}dt +\\large\\int\\Delta Q^._{\\small cooling}dt+\\large\\int\\Delta Q^._{\\small radiaitve \\ losses}dt \\end{equation}$<br/>\n",
    "\n",
    "The Enthalpy that is heating up the melt and slag in a small time step $\\Delta t$ is determined from the energy input from the electric arc , ($P_{electric}$), from oxidation reactions, and from the gas burners ($P_{ngburners})$. Equation 2 depicts the same in mathematical form : <br/>\n",
    "\n",
    "**_Energy balance -Equation 2_**\n",
    "\n",
    "\n",
    "$\\Delta E_{Total}=\\large \\int_{\\small t}^{\\small t+\\Delta t}P_{elec}+ \\int_{\\small t}^{\\small t+\\Delta t}\\sum_{i}^{n}m^._{oxidized,i}h_{oxidized,i}dt +\\large \\int_{\\small t}^{\\small t+\\Delta t}P_{ng_burners}dt=\\large \\int_{\\small T(t)}^{\\small T( t+\\Delta t)} h_{steel}m_{steel}dt + \\large \\int_{\\small T(t)}^{\\small T( t+\\Delta t)}h_{slag}m_{slag}dt+\\large \\int_{\\small t}^{\\small t+\\Delta t}P_{off-gas}dt+\\large \\int_{\\small t}^{\\small t+\\Delta t}P_{cooling}dt + \\large \\int_{\\small t}^{\\small t+\\Delta t}P_{other losses}dt$ $<br/>\n",
    "\n",
    "Efficiency values for energy conversion for electric arc furnaces \n",
    "\n",
    "**_Electric arc -Equation 3_**\n",
    "\n",
    "\n",
    "$\\Delta H_{melt,el}=\\eta_{el}\\eta_{arc}\\Large \\int_{\\small t}^{\\small t+\\Delta t}P_{elec}dt$ $<br/>\n",
    "\n",
    "\n",
    "In this model , the value of $\\eta_{el}\\eta_{arc}$ has been taken to be 0.6 as the melting rate is lower for 100\\% DRI than with scrap based mixture. $<br/>\n",
    "\n",
    "Enthalpy portion that is transferred into the melt and the slag from the oxidation reactions which are exothermic.<br/> \n",
    "\n",
    "**_Chemical enthalpy -Equation 4_**<br/>\n",
    "\n",
    "\n",
    "\n",
    "$\\Delta H_{melt,chem}=\\eta_{chem}\\Large\\int_{\\small t}^{\\small t+\\Delta t}\\sum_{i}^{n}m^._{oxidized,i}h_{oxidized,i}dt$ <br/>\n",
    "\n",
    "\n",
    "$\\eta_{chem}$ is considered to be 0.5 to 0.6 in this work.<br/>\n",
    "\n",
    "Enthalpy transferred from the natural gas burners in the EAF is calculated as : <br/>\n",
    "\n",
    "**_Natural gas burners calculations -Equation 5_**<br/>\n",
    "\n",
    "\n",
    "\n",
    "$\\Delta H_{melt,burners}=\\eta_{burners}\\Large \\int_{\\small t}^{\\small t+\\Delta t}P_{ng-burners}dt$<br/>\n",
    "\n",
    "\n",
    "\n",
    "In the model, energy input from natural gas has not been considered as it is primarily used with scrap based EAF systems to provide initial heating and reducing the overall energy consumption of the EAF. <br/>\n",
    "\n",
    "\n",
    "The terms quantifying the $\\Delta H_{\\small ng_burners},\\Delta H^._{\\small off-gas},\\Delta Q^._{\\small cooling},\\Delta Q^._{\\small radiaitve losses}  $ In Equation 1 can be ignored. The **losses are considered in the efficiency factors of the electric arc and  chemical enthalpy calculations**. Natural gas burners are not used for the $100 \\% $DRI based EAF systems.  <br/>\n",
    "\n",
    "Final expression of the energy balance can be represented by **_Equation : 6_**<br/>\n",
    "\n",
    "\n",
    "$\\Delta H_{melt}=\\eta_{el}\\eta_{arc}\\int_{ t}^{t+\\Delta t}P_{elec}dt + \\eta_{chem}\\int_{ t}^{ t+\\Delta t}\\sum_{i}^{n}m_{oxidized,i}h_{oxidized,i}dt = \\int_{T(t)}^{T( t+\\Delta t)} h_{steel}m_{steel}dt + \\int_{T(t)}^{ T( t+\\Delta t)}h_{slag}m_{slag}dt $\n",
    "\n",
    "\n",
    "\n",
    "\n",
    "\n",
    "\n",
    "\n",
    "\n",
    "\n",
    "\n",
    "\n",
    "\n",
    "\n",
    "\n",
    "\n",
    "\n",
    "\n",
    "\n",
    "\n",
    "\n",
    "\n",
    "\n"
   ]
  },
  {
   "cell_type": "markdown",
   "metadata": {},
   "source": [
    "### Amount of carbon added  kg/tls"
   ]
  },
  {
   "cell_type": "code",
   "execution_count": 34,
   "metadata": {},
   "outputs": [
    {
     "name": "stdout",
     "output_type": "stream",
     "text": [
      "Weight of metallic iron 1.0000000000000002\n",
      "Weight of iron oxide 0.06382978723404262\n",
      "Weight of Al2O3 0.031994880819068955\n",
      "Weight of SiO2 0.04799232122860343\n",
      "Weight of carbon/tls 10\n",
      "Weight of CaO /tls 37.5\n",
      "Weight of MgO /tls 12.5\n"
     ]
    }
   ],
   "source": [
    "\n",
    "m10=10\n",
    "m11=50\n",
    "m11_cao=0.75*m11\n",
    "m11_mgo=0.25*m11\n",
    "# Weight of carbon in Kg added per ton for reduction of remaining FeO and\n",
    "#production of carbon monoxide in the EAF for froth making which is essential for the smooth functioning of then EAF\n",
    "print(\"Weight of metallic iron\",m4_fe) #in ton\n",
    "print(\"Weight of iron oxide\",m4_feo) # in ton\n",
    "print(\"Weight of Al2O3\",m1_al2o3)# in ton\n",
    "print(\"Weight of SiO2\",m1_sio2)# in ton\n",
    "print(\"Weight of carbon/tls\",m10)\n",
    "print(\"Weight of CaO /tls\",m11_cao)# in kg\n",
    "print(\"Weight of MgO /tls\",m11_mgo)# in kg"
   ]
  },
  {
   "cell_type": "code",
   "execution_count": 35,
   "metadata": {},
   "outputs": [],
   "source": [
    "## input and tap temperatures\n",
    "T4=973# # Temperature input to the EAF \n",
    "T6=1923 # Tap temperature of the molten steel 1650 C\n"
   ]
  },
  {
   "cell_type": "markdown",
   "metadata": {},
   "source": [
    "## Exothermic reactions in the EAF\n",
    "\n",
    "If trace amounts of Si, Al, P, Mn are present in the ore, they get oxidized inside the electric arc furnace, producing heat and help in advancing the reaction. In this model we have considered the percentage of these elements to be negligible. However, we have considered only sio2 and al2o3 and no free metals in our analysis. In practice, these metals are added to the EAF for making alloyed steel with specific properties. We have however, included the codes so that these can be analyzed in the future.Mass percentages have been assumed randomly at this stage. Enthalpy values have been taken as KWh/kg of the primary reactant. "
   ]
  },
  {
   "cell_type": "code",
   "execution_count": 36,
   "metadata": {},
   "outputs": [
    {
     "data": {
      "text/html": [
       "<div>\n",
       "<style scoped>\n",
       "    .dataframe tbody tr th:only-of-type {\n",
       "        vertical-align: middle;\n",
       "    }\n",
       "\n",
       "    .dataframe tbody tr th {\n",
       "        vertical-align: top;\n",
       "    }\n",
       "\n",
       "    .dataframe thead th {\n",
       "        text-align: right;\n",
       "    }\n",
       "</style>\n",
       "<table border=\"1\" class=\"dataframe\">\n",
       "  <thead>\n",
       "    <tr style=\"text-align: right;\">\n",
       "      <th></th>\n",
       "      <th>Reactants</th>\n",
       "      <th>Atomic weight</th>\n",
       "      <th>Products</th>\n",
       "      <th>Enthalpy</th>\n",
       "      <th>Percentage</th>\n",
       "      <th>Weight</th>\n",
       "    </tr>\n",
       "  </thead>\n",
       "  <tbody>\n",
       "    <tr>\n",
       "      <th>0</th>\n",
       "      <td>Si</td>\n",
       "      <td>28.0850</td>\n",
       "      <td>SiO2</td>\n",
       "      <td>8.94</td>\n",
       "      <td>0.5</td>\n",
       "      <td>0.007999</td>\n",
       "    </tr>\n",
       "    <tr>\n",
       "      <th>1</th>\n",
       "      <td>Mn</td>\n",
       "      <td>54.9300</td>\n",
       "      <td>MnO</td>\n",
       "      <td>1.93</td>\n",
       "      <td>0.1</td>\n",
       "      <td>0.001600</td>\n",
       "    </tr>\n",
       "    <tr>\n",
       "      <th>2</th>\n",
       "      <td>Cr</td>\n",
       "      <td>51.9960</td>\n",
       "      <td>Cr2O3</td>\n",
       "      <td>3.05</td>\n",
       "      <td>0.3</td>\n",
       "      <td>0.004799</td>\n",
       "    </tr>\n",
       "    <tr>\n",
       "      <th>3</th>\n",
       "      <td>Fe</td>\n",
       "      <td>55.8470</td>\n",
       "      <td>FeO</td>\n",
       "      <td>1.32</td>\n",
       "      <td>0.1</td>\n",
       "      <td>0.001600</td>\n",
       "    </tr>\n",
       "    <tr>\n",
       "      <th>4</th>\n",
       "      <td>C</td>\n",
       "      <td>12.0000</td>\n",
       "      <td>CO</td>\n",
       "      <td>2.55</td>\n",
       "      <td>0.6</td>\n",
       "      <td>0.009598</td>\n",
       "    </tr>\n",
       "    <tr>\n",
       "      <th>5</th>\n",
       "      <td>Al</td>\n",
       "      <td>26.9815</td>\n",
       "      <td>Al2O3</td>\n",
       "      <td>5.29</td>\n",
       "      <td>0.3</td>\n",
       "      <td>0.004799</td>\n",
       "    </tr>\n",
       "    <tr>\n",
       "      <th>6</th>\n",
       "      <td>MO</td>\n",
       "      <td>95.9400</td>\n",
       "      <td>MOO2</td>\n",
       "      <td>1.70</td>\n",
       "      <td>0.3</td>\n",
       "      <td>0.004799</td>\n",
       "    </tr>\n",
       "    <tr>\n",
       "      <th>7</th>\n",
       "      <td>S</td>\n",
       "      <td>32.0600</td>\n",
       "      <td>SO2</td>\n",
       "      <td>2.75</td>\n",
       "      <td>0.1</td>\n",
       "      <td>0.001600</td>\n",
       "    </tr>\n",
       "    <tr>\n",
       "      <th>8</th>\n",
       "      <td>P</td>\n",
       "      <td>30.9738</td>\n",
       "      <td>P2O5</td>\n",
       "      <td>5.54</td>\n",
       "      <td>0.4</td>\n",
       "      <td>0.006399</td>\n",
       "    </tr>\n",
       "  </tbody>\n",
       "</table>\n",
       "</div>"
      ],
      "text/plain": [
       "  Reactants  Atomic weight Products  Enthalpy  Percentage    Weight\n",
       "0        Si        28.0850     SiO2      8.94         0.5  0.007999\n",
       "1        Mn        54.9300      MnO      1.93         0.1  0.001600\n",
       "2        Cr        51.9960    Cr2O3      3.05         0.3  0.004799\n",
       "3        Fe        55.8470      FeO      1.32         0.1  0.001600\n",
       "4         C        12.0000       CO      2.55         0.6  0.009598\n",
       "5        Al        26.9815    Al2O3      5.29         0.3  0.004799\n",
       "6        MO        95.9400     MOO2      1.70         0.3  0.004799\n",
       "7         S        32.0600      SO2      2.75         0.1  0.001600\n",
       "8         P        30.9738     P2O5      5.54         0.4  0.006399"
      ]
     },
     "execution_count": 36,
     "metadata": {},
     "output_type": "execute_result"
    }
   ],
   "source": [
    "reactions_EAF={\n",
    "  'Reactants':[\"Si\",\"Mn\",\"Cr\",\"Fe\",\"C\",\"Al\",\"MO\",\"S\",\"P\"],\n",
    "  'Atomic weight':[28.085,54.93,51.996,55.847,12,26.9815,95.94,32.06,30.9738],\n",
    "  'Products': [\"SiO2\",\"MnO\",\"Cr2O3\",\"FeO\",\"CO\",\"Al2O3\",\"MOO2\",\"SO2\",\"P2O5\"],\n",
    "  'Enthalpy':[ 8.94,1.93,3.05,1.32,2.55,5.29,1.70,2.75,5.54],\n",
    "'Percentage':[(0.5),0.1,0.3,0.1,0.6,0.3,0.3,0.1,0.4],\n",
    "    'Weight':[((0.5)/100*m1),((0.1)/100*m1),((0.3)/100*m1),((0.1)/100*m1),((0.6)/100*m1),((0.3)/100*m1),((0.3)/100*m1),((0.1)/100*m1),((0.4)/100*m1)]\n",
    "}\n",
    "df=pd.DataFrame.from_dict(reactions_EAF)\n",
    "df"
   ]
  },
  {
   "cell_type": "code",
   "execution_count": 37,
   "metadata": {},
   "outputs": [
    {
     "data": {
      "text/html": [
       "<div>\n",
       "<style scoped>\n",
       "    .dataframe tbody tr th:only-of-type {\n",
       "        vertical-align: middle;\n",
       "    }\n",
       "\n",
       "    .dataframe tbody tr th {\n",
       "        vertical-align: top;\n",
       "    }\n",
       "\n",
       "    .dataframe thead th {\n",
       "        text-align: right;\n",
       "    }\n",
       "</style>\n",
       "<table border=\"1\" class=\"dataframe\">\n",
       "  <thead>\n",
       "    <tr style=\"text-align: right;\">\n",
       "      <th></th>\n",
       "      <th>Reactants</th>\n",
       "      <th>Atomic weight</th>\n",
       "      <th>Products</th>\n",
       "      <th>Enthalpy</th>\n",
       "      <th>Percentage</th>\n",
       "      <th>Weight</th>\n",
       "      <th>Energy</th>\n",
       "    </tr>\n",
       "  </thead>\n",
       "  <tbody>\n",
       "    <tr>\n",
       "      <th>0</th>\n",
       "      <td>Si</td>\n",
       "      <td>28.0850</td>\n",
       "      <td>SiO2</td>\n",
       "      <td>8.94</td>\n",
       "      <td>0.5</td>\n",
       "      <td>0.007999</td>\n",
       "      <td>0.071509</td>\n",
       "    </tr>\n",
       "    <tr>\n",
       "      <th>1</th>\n",
       "      <td>Mn</td>\n",
       "      <td>54.9300</td>\n",
       "      <td>MnO</td>\n",
       "      <td>1.93</td>\n",
       "      <td>0.1</td>\n",
       "      <td>0.001600</td>\n",
       "      <td>0.003088</td>\n",
       "    </tr>\n",
       "    <tr>\n",
       "      <th>2</th>\n",
       "      <td>Cr</td>\n",
       "      <td>51.9960</td>\n",
       "      <td>Cr2O3</td>\n",
       "      <td>3.05</td>\n",
       "      <td>0.3</td>\n",
       "      <td>0.004799</td>\n",
       "      <td>0.014638</td>\n",
       "    </tr>\n",
       "    <tr>\n",
       "      <th>3</th>\n",
       "      <td>Fe</td>\n",
       "      <td>55.8470</td>\n",
       "      <td>FeO</td>\n",
       "      <td>1.32</td>\n",
       "      <td>0.1</td>\n",
       "      <td>0.001600</td>\n",
       "      <td>0.002112</td>\n",
       "    </tr>\n",
       "    <tr>\n",
       "      <th>4</th>\n",
       "      <td>C</td>\n",
       "      <td>12.0000</td>\n",
       "      <td>CO</td>\n",
       "      <td>2.55</td>\n",
       "      <td>0.6</td>\n",
       "      <td>0.009598</td>\n",
       "      <td>0.024476</td>\n",
       "    </tr>\n",
       "    <tr>\n",
       "      <th>5</th>\n",
       "      <td>Al</td>\n",
       "      <td>26.9815</td>\n",
       "      <td>Al2O3</td>\n",
       "      <td>5.29</td>\n",
       "      <td>0.3</td>\n",
       "      <td>0.004799</td>\n",
       "      <td>0.025388</td>\n",
       "    </tr>\n",
       "    <tr>\n",
       "      <th>6</th>\n",
       "      <td>MO</td>\n",
       "      <td>95.9400</td>\n",
       "      <td>MOO2</td>\n",
       "      <td>1.70</td>\n",
       "      <td>0.3</td>\n",
       "      <td>0.004799</td>\n",
       "      <td>0.008159</td>\n",
       "    </tr>\n",
       "    <tr>\n",
       "      <th>7</th>\n",
       "      <td>S</td>\n",
       "      <td>32.0600</td>\n",
       "      <td>SO2</td>\n",
       "      <td>2.75</td>\n",
       "      <td>0.1</td>\n",
       "      <td>0.001600</td>\n",
       "      <td>0.004399</td>\n",
       "    </tr>\n",
       "    <tr>\n",
       "      <th>8</th>\n",
       "      <td>P</td>\n",
       "      <td>30.9738</td>\n",
       "      <td>P2O5</td>\n",
       "      <td>5.54</td>\n",
       "      <td>0.4</td>\n",
       "      <td>0.006399</td>\n",
       "      <td>0.035450</td>\n",
       "    </tr>\n",
       "  </tbody>\n",
       "</table>\n",
       "</div>"
      ],
      "text/plain": [
       "  Reactants  Atomic weight Products  Enthalpy  Percentage    Weight    Energy\n",
       "0        Si        28.0850     SiO2      8.94         0.5  0.007999  0.071509\n",
       "1        Mn        54.9300      MnO      1.93         0.1  0.001600  0.003088\n",
       "2        Cr        51.9960    Cr2O3      3.05         0.3  0.004799  0.014638\n",
       "3        Fe        55.8470      FeO      1.32         0.1  0.001600  0.002112\n",
       "4         C        12.0000       CO      2.55         0.6  0.009598  0.024476\n",
       "5        Al        26.9815    Al2O3      5.29         0.3  0.004799  0.025388\n",
       "6        MO        95.9400     MOO2      1.70         0.3  0.004799  0.008159\n",
       "7         S        32.0600      SO2      2.75         0.1  0.001600  0.004399\n",
       "8         P        30.9738     P2O5      5.54         0.4  0.006399  0.035450"
      ]
     },
     "execution_count": 37,
     "metadata": {},
     "output_type": "execute_result"
    }
   ],
   "source": [
    "df['Energy']= df['Weight']*df['Enthalpy']\n",
    "df"
   ]
  },
  {
   "cell_type": "code",
   "execution_count": 38,
   "metadata": {},
   "outputs": [
    {
     "data": {
      "text/plain": [
       "0.18921772516397378"
      ]
     },
     "execution_count": 38,
     "metadata": {},
     "output_type": "execute_result"
    }
   ],
   "source": [
    "df['Energy'].sum()"
   ]
  },
  {
   "cell_type": "markdown",
   "metadata": {},
   "source": [
    "#### Carbon dissolution in liquid metal is an endothermic reaction \n",
    "Solution enthalpy for carbon =0.62 kWh/kgc"
   ]
  },
  {
   "cell_type": "code",
   "execution_count": 39,
   "metadata": {},
   "outputs": [],
   "source": [
    "## Endothermic reactions\n",
    "H_carbon=0.62*m10\n",
    "#print(\"carbon_sol_enthalpy\",H_carbon)"
   ]
  },
  {
   "cell_type": "markdown",
   "metadata": {},
   "source": [
    "#### Reduction of iron oxide to iron "
   ]
  },
  {
   "cell_type": "code",
   "execution_count": 40,
   "metadata": {},
   "outputs": [
    {
     "data": {
      "text/plain": [
       "44.680851063829834"
      ]
     },
     "execution_count": 40,
     "metadata": {},
     "output_type": "execute_result"
    }
   ],
   "source": [
    "\n",
    "#FeO+C---Fe + CO   Exothermic reaction\n",
    "reduction_enthalpy=3.59 #kWh/kg of carbon\n",
    "#lets conider that 70% of the FeO is converted into iron and rest remains in the slag\n",
    "m4_feo_reduced=(m4_feo*0.7)*1000\n",
    "feo_weight=71.845 #g/mol\n",
    "c_weight=12 #g/mol\n",
    "c_required=(c_weight/feo_weight)*m4_feo_reduced\n",
    "H_feo_red=c_required*reduction_enthalpy\n",
    "#print(\"carbon required\",c_required)\n",
    "#print(\"Iron oxide reduction enthalpy\",H_feo_red)\n",
    "m4_feo_reduced\n"
   ]
  },
  {
   "cell_type": "markdown",
   "metadata": {},
   "source": [
    "#### Oxidation reaction of carbon with oxygen"
   ]
  },
  {
   "cell_type": "code",
   "execution_count": 41,
   "metadata": {},
   "outputs": [],
   "source": [
    "\n",
    "c_remaining=m10-c_required\n",
    "# Oxidation of carbon to carbon monoxide consider that remaining carbon is converted to CO\n",
    "# reaction C+0.5 O2---- CO + 9.10 kWh/kg of carbon\n",
    "H_co=c_remaining*9.10 "
   ]
  },
  {
   "cell_type": "code",
   "execution_count": 42,
   "metadata": {},
   "outputs": [
    {
     "name": "stdout",
     "output_type": "stream",
     "text": [
      "CO_enthalpy 23.087842770266295\n",
      "Chemical enthalpy 43.67956194111728\n"
     ]
    }
   ],
   "source": [
    "# certain portion of the CO escapes from the furnace and is also converted into CO2\n",
    "print(\"CO_enthalpy\",H_co) \n",
    "H_che_ent=H_feo_red+H_co-H_carbon\n",
    "print(\"Chemical enthalpy\",H_che_ent)"
   ]
  },
  {
   "cell_type": "markdown",
   "metadata": {},
   "source": [
    "## Energy required to melt Fe in the EAF"
   ]
  },
  {
   "cell_type": "code",
   "execution_count": 43,
   "metadata": {},
   "outputs": [
    {
     "name": "stdout",
     "output_type": "stream",
     "text": [
      "613962.400853441\n",
      "239.1562224592892\n"
     ]
    }
   ],
   "source": [
    "# Reference : NIST https://webbook.nist.gov/cgi/cbook.cgi?ID=C7439896&Mask=2&Type=JANAFS&Table=on\n",
    "Hfe_f=247000 # Melting enthalpy of steel per ton in Kj/ton \n",
    "#https://materialsdata.nist.gov/bitstream/handle/11115/166/Thermophysical%20Properties.pdf?sequence=3\n",
    "Hfe_T4=fe_enthalpy(T4) # Enthalpy of DRI at the input \n",
    "Hfe_T6=fe_enthalpy(T6) # Enthalpy of molten steel at the output\n",
    "h6=Hfe_T6-Hfe_T4\n",
    "#print(En_per_mol)\n",
    "mol_per_ton=1000000/mol_weight_fe # 1 ton= 10^6 grams \n",
    "h6_ton=h6*mol_per_ton\n",
    "print(h6_ton) #In Kj/ton\n",
    "H6=((h6_ton+Hfe_f)/3600)*m4_fe# Specific energy consumption KWh)\n",
    "print(H6) "
   ]
  },
  {
   "cell_type": "markdown",
   "metadata": {},
   "source": [
    "### Energy contained in the slag or energy required to heat the impurities"
   ]
  },
  {
   "cell_type": "markdown",
   "metadata": {},
   "source": [
    "Energy contained in the silica in the scrap"
   ]
  },
  {
   "cell_type": "code",
   "execution_count": 44,
   "metadata": {},
   "outputs": [
    {
     "name": "stdout",
     "output_type": "stream",
     "text": [
      "Energy per ton in kJ 1161280.7290991822\n",
      "Enthalpy change in kWh 15.481266052087431\n"
     ]
    }
   ],
   "source": [
    "\"\"\" Energy contained in the slag\"\"\"\n",
    "T7=T6\n",
    "\n",
    "mol_weight_Sio2=60.0843 #in grams\n",
    " # Enthalpy of DRI at the input \n",
    "h7_sio2=sio2_enthalpy(T7)-sio2_enthalpy(T4)\n",
    "#print(\"Energy per mol\",h7_sio2)\n",
    "mol_per_ton=1000000/mol_weight_Sio2# 1 ton= 10^6 grams \n",
    "h7_sio2_ton=h7_sio2*mol_per_ton\n",
    "#En_total=En_per_ton # H_f needs to be added only when there is a conversion from solid to liquid \n",
    "print(\"Energy per ton in kJ\",h7_sio2_ton) #In Kj/ton\n",
    "#print((En_total)/3600)# Specific energy consumption KWh)\n",
    "H7_sio2=(h7_sio2_ton/3600)*(m1_sio2)\n",
    "print(\"Enthalpy change in kWh\",H7_sio2)\n",
    "\n",
    "\n"
   ]
  },
  {
   "cell_type": "markdown",
   "metadata": {},
   "source": [
    "Energy contained in the Alumina in the scrap"
   ]
  },
  {
   "cell_type": "code",
   "execution_count": 45,
   "metadata": {},
   "outputs": [
    {
     "name": "stdout",
     "output_type": "stream",
     "text": [
      "Energy per mol 1249554.494087817\n",
      "Enthalpy change in Al2o3 in EAF in kWH 11.105374198686585\n"
     ]
    }
   ],
   "source": [
    "\"\"\"Reference : https://webbook.nist.gov/cgi/cbook.cgi?ID=C1344281&Mask=2\"\"\"\n",
    "# Specific enthalpy per mol\n",
    "h7_al2o3=Al2O3_enthalpy(T7)-Al2O3_enthalpy(T4) \n",
    "# 1 ton= 10^6 grams \n",
    "h7_al2o3_ton=h7_al2o3*(1000000/mol_weight_al2o3)\n",
    "#En_total=En_per_ton\n",
    "print(\"Energy per mol\",h7_al2o3_ton) #In Kj/ton\n",
    "#print((En_total)/3600)# Specific energy consumption KWh)\n",
    "H7_AL2O3=(h7_al2o3_ton/3600)*(m1_al2o3)\n",
    "print(\"Enthalpy change in Al2o3 in EAF in kWH\",H7_AL2O3)\n",
    "\n"
   ]
  },
  {
   "cell_type": "markdown",
   "metadata": {},
   "source": [
    "Energy contained in the lime in the slag . Lime is fed into the shaft furnace at ambient temperature or T0"
   ]
  },
  {
   "cell_type": "code",
   "execution_count": 46,
   "metadata": {},
   "outputs": [
    {
     "name": "stdout",
     "output_type": "stream",
     "text": [
      "Energy per mol 1551084.7865699586\n",
      "Enthalpy change in cao in EAF in kWH 16.157133193437065\n"
     ]
    }
   ],
   "source": [
    "\"\"\"reference : https://webbook.nist.gov/cgi/cbook.cgi?ID=C1305788&Mask=2\"\"\"\n",
    "T0=298  # Ambient temperature\n",
    "def cao_enthalpy(T):\n",
    "    t=T/1000\n",
    "    A=49.95403\n",
    "    B=4.887916\n",
    "    C=-0.353056\n",
    "    D=0.046187\n",
    "    E=-0.825097\n",
    "    F=-652.9718\n",
    "    G=92.56096\n",
    "    H=-635.0894\n",
    "    H_t=A*t +(B*t*t)/2 +(C*t*t*t)/3 + (D*t*t*t*t)/4-(E/t)+F-H\n",
    "    return H_t\n",
    " #in grams\n",
    "#H_f=(635.09 /mol_weight_cao)*1000 # Melting point of cao is 2572 C\n",
    "h7_cao=cao_enthalpy(T7)-cao_enthalpy(T0)\n",
    "mol_per_ton=1000000/mol_weight_cao# 1 ton= 10^6 grams \n",
    "h7_cao_ton=h7_cao*mol_per_ton\n",
    "print(\"Energy per mol\",h7_cao_ton) #In Kj/ton\n",
    "#print((En_total)/3600)# Specific energy consumption KWh)\n",
    "H7_cao=(h7_cao_ton/3600)*(m11_cao/1000)\n",
    "print(\"Enthalpy change in cao in EAF in kWH\",H7_cao)"
   ]
  },
  {
   "cell_type": "code",
   "execution_count": 47,
   "metadata": {},
   "outputs": [
    {
     "name": "stdout",
     "output_type": "stream",
     "text": [
      "82.35709418670433\n",
      "Energy per mol 2043377.2537664457\n",
      "Enthalpy change in cao in EAF in kWh 7.095059908911271\n"
     ]
    }
   ],
   "source": [
    "def mgo_enthalpy(T):\n",
    "    t=T/1000\n",
    "    A=47.25995\n",
    "    B=5.681621\n",
    "    C=-0.872665\n",
    "    D=0.104300\n",
    "    E=-1.053955\n",
    "    F=-619.1316\n",
    "    G=76.46176\n",
    "    H=-601.2408\n",
    "    H_t=A*t +(B*t*t)/2 +(C*t*t*t)/3 + (D*t*t*t*t)/4-(E/t)+F-H\n",
    "    return H_t\n",
    "\n",
    "#H_f=(601.24/mol_weight_mgo)*1000 # Melting point of Mgo is 2852 C\n",
    "\n",
    "h7_mgo=mgo_enthalpy(T7)-mgo_enthalpy(T0)\n",
    "print(h7_mgo)\n",
    "\n",
    "mol_per_ton=1000000/mol_weight_mgo# 1 ton= 10^6 grams \n",
    "h7_mgo_ton=h7_mgo*mol_per_ton\n",
    "\n",
    "print(\"Energy per mol\",h7_mgo_ton) #In Kj/ton\n",
    "#print((En_total)/3600)# Specific energy consumption KWh)\n",
    "H7_mgo=(h7_mgo_ton/3600)*(m11_mgo/1000)\n",
    "print(\"Enthalpy change in cao in EAF in kWh\",H7_mgo)\n"
   ]
  },
  {
   "cell_type": "code",
   "execution_count": 48,
   "metadata": {},
   "outputs": [
    {
     "name": "stdout",
     "output_type": "stream",
     "text": [
      "59.70676288120109\n",
      "Energy per mol 831061.2282334098\n",
      "Enthalpy change in FeO in EAF in kWh 4.420538448050055\n",
      "0.06382978723404262\n",
      "0.04468085106382984\n"
     ]
    }
   ],
   "source": [
    "#Enthalpy contained in residual FeO in the slag stream : \n",
    "#https://webbook.nist.gov/cgi/cbook.cgi?ID=C1345251&Mask=2\n",
    "# The constants are used for a temperature range of 298-1650 K and the \n",
    "#fusion enthalpy is added in the mix to account for the latent heat of fusion , \n",
    "#which is an endothermic reaction\n",
    "def feo_enthalpy(T):\n",
    "    t=T/1000\n",
    "    A=45.75120\n",
    "    B=18.78553\n",
    "    C=-5.952201\n",
    "    D=0.852779\n",
    "    E=-0.081265\n",
    "    F=-286.7429\n",
    "    G=110.3120\n",
    "    H=-272.0441\n",
    "    H_t=A*t +(B*t*t)/2 +(C*t*t*t)/3 + (D*t*t*t*t)/4-(E/t)+F-H\n",
    "    return H_t\n",
    "mol_weight_feo=71.844 #in grams\n",
    "h7_feo=(feo_enthalpy(T7)-feo_enthalpy(T4))\n",
    "print(h7_feo)\n",
    "\n",
    "mol_per_ton=1000000/mol_weight_feo # 1 ton= 10^6 grams \n",
    "h7_feo_ton=h7_feo*mol_per_ton\n",
    "print(\"Energy per mol\",h7_feo_ton) #In Kj/ton\n",
    "#print((En_total)/3600)# Specific energy consumption KWh)\n",
    "H7_feo=(h7_feo_ton/3600)*(m4_feo-(m4_feo_reduced/1000))\n",
    "print(\"Enthalpy change in FeO in EAF in kWh\",H7_feo)\n",
    "print(m4_feo)\n",
    "print(m4_feo_reduced/1000)"
   ]
  },
  {
   "cell_type": "code",
   "execution_count": 49,
   "metadata": {},
   "outputs": [
    {
     "name": "stdout",
     "output_type": "stream",
     "text": [
      "54.259371801172406 239.1562224592892\n",
      "293.4155942604616\n",
      "m7 0.14913613821788518\n",
      "H7 54.259371801172406\n",
      "H6 239.1562224592892\n"
     ]
    },
    {
     "data": {
      "text/plain": [
       "[91.36364286369445,\n",
       " 160.29766657986409,\n",
       " 229.23169029603383,\n",
       " 298.16571401220347,\n",
       " 367.09973772837316,\n",
       " 436.0337614445428,\n",
       " 504.9677851607124,\n",
       " 573.9018088768821,\n",
       " 642.8358325930518]"
      ]
     },
     "execution_count": 49,
     "metadata": {},
     "output_type": "execute_result"
    }
   ],
   "source": [
    "# Energy contained in the slag \n",
    "m7=m1_sio2+m1_al2o3+(m11_cao/1000)+(m11_mgo/1000) +((m4_feo)-(m4_feo_reduced/1000))\n",
    "H7=H7_sio2+H7_AL2O3+H7_cao+H7_mgo+H7_feo\n",
    "print(H7,H6)\n",
    "Energy_out=H7+H6 # Refers to the amount of energy exiting from the molten steel and scrap stream of the EAF\n",
    "print(Energy_out) # in kWh\n",
    "\n",
    "print('m7',m7)\n",
    "print('H7',H7)\n",
    "print('H6',H6)\n",
    "EL2_elec\n",
    "EL3"
   ]
  },
  {
   "cell_type": "markdown",
   "metadata": {},
   "source": [
    "## Final calculations for the electrical energy and the energy balance of the EAF\n",
    "\n",
    "Reference : https://www.sciencedirect.com/science/article/pii/S036054421100524X."
   ]
  },
  {
   "cell_type": "code",
   "execution_count": 50,
   "metadata": {},
   "outputs": [
    {
     "name": "stdout",
     "output_type": "stream",
     "text": [
      "Electrical energy input in kWh/ton of liquid steel 445.34642849298535\n"
     ]
    }
   ],
   "source": [
    "eta_chem=0.6 # Efficiency of heat transfer , \n",
    "#Energy taken away by the waste gases etc considered in this calculation\n",
    "eta_el=0.6 # Efficiency of the transformer, arc \n",
    "#, heat transfer, cooling losses, waste gas stream taken into consideration\n",
    "EL4=(Energy_out-(eta_chem*H_che_ent))/eta_el\n",
    "print (\"Electrical energy input in kWh/ton of liquid steel\", EL4)"
   ]
  },
  {
   "cell_type": "markdown",
   "metadata": {},
   "source": [
    "# Total energy consumption of HDRI-EAF system"
   ]
  },
  {
   "cell_type": "code",
   "execution_count": 51,
   "metadata": {},
   "outputs": [],
   "source": [
    "EL_total=[]\n",
    "EL_total_MWh=[]\n",
    "for i in range(len(lambda_h2)):\n",
    "    EL_total.append((EL1/3600)+EL2_elec[i]+EL3[i]+EL4)\n",
    "    EL_total_MWh.append(((EL1/3600)+EL2_elec[i]+EL3[i]+EL4)/1000)"
   ]
  },
  {
   "cell_type": "code",
   "execution_count": 52,
   "metadata": {},
   "outputs": [
    {
     "data": {
      "image/png": "[encoded data removed]",
      "text/plain": [
       "<Figure size 432x288 with 2 Axes>"
      ]
     },
     "metadata": {
      "needs_background": "light"
     },
     "output_type": "display_data"
    }
   ],
   "source": [
    "fig, ax1 = plt.subplots()\n",
    "ax2 = ax1.twinx()\n",
    "ax1.plot(lambda_h2,EL_total,'g-')\n",
    "ax2.plot(lambda_h2,EL_total_MWh,'b-')\n",
    "ax1.set_xlabel('lambda_h2')\n",
    "ax1.set_ylabel('Electricity demand for 1 tls in KWh', color='g')\n",
    "ax2.set_ylabel('Electricity demand for 1 tls in MWh', color='g')\n",
    "plt.savefig('Electricity demand for 1 tls.svg')\n",
    "plt.savefig('Electricity demand for 1 tls.pdf')\n",
    "plt.show()"
   ]
  },
  {
   "cell_type": "code",
   "execution_count": 53,
   "metadata": {},
   "outputs": [
    {
     "name": "stdout",
     "output_type": "stream",
     "text": [
      "Total electricity requirement [3409.531283680208, 3722.1252590482713, 4034.719234416335, 4347.313209784398, 4659.90718515246, 4972.501160520524, 5285.095135888588, 5597.689111256652, 5910.283086624714]\n"
     ]
    }
   ],
   "source": [
    "print('Total electricity requirement',  EL_total)"
   ]
  },
  {
   "cell_type": "code",
   "execution_count": 54,
   "metadata": {},
   "outputs": [
    {
     "name": "stdout",
     "output_type": "stream",
     "text": [
      "Total electricity requirement in MWh [3.409531283680208, 3.7221252590482714, 4.034719234416335, 4.3473132097843985, 4.65990718515246, 4.972501160520523, 5.285095135888588, 5.597689111256652, 5.910283086624714]\n"
     ]
    }
   ],
   "source": [
    "print('Total electricity requirement in MWh',EL_total_MWh)"
   ]
  },
  {
   "cell_type": "code",
   "execution_count": 55,
   "metadata": {},
   "outputs": [
    {
     "data": {
      "image/png": "[encoded data removed]",
      "text/plain": [
       "<Figure size 432x288 with 1 Axes>"
      ]
     },
     "metadata": {
      "needs_background": "light"
     },
     "output_type": "display_data"
    }
   ],
   "source": [
    "EL1_pellet=[]\n",
    "EL4_eaf=[]\n",
    "\n",
    "for i in range(len(lambda_h2)):\n",
    "    EL1_pellet.append(EL1/3600)\n",
    "    EL4_eaf.append(EL4)         \n",
    "               \n",
    "plt.scatter(lambda_h2,EL1_pellet,label='Pellet heating')\n",
    "plt.scatter(lambda_h2,EL2_elec,label='Electrolyser')\n",
    "plt.scatter(lambda_h2,EL3,label='Hydrogen heating')\n",
    "plt.scatter(lambda_h2,EL4_eaf,label='Electric arc furnace')\n",
    "plt.savefig('Electricity demand break-up for 1 tls.svg')\n",
    "plt.savefig('Electricity demand break-up for 1 tls.pdf')\n",
    "plt.legend()\n",
    "plt.show()"
   ]
  },
  {
   "cell_type": "code",
   "execution_count": 56,
   "metadata": {},
   "outputs": [
    {
     "data": {
      "image/png": "[encoded data removed]",
      "text/plain": [
       "<Figure size 432x288 with 1 Axes>"
      ]
     },
     "metadata": {
      "needs_background": "light"
     },
     "output_type": "display_data"
    }
   ],
   "source": [
    "plt.plot(lambda_h2,EL1_pellet,label='Pellet heating')\n",
    "plt.plot(lambda_h2,EL2_elec,label='Electrolyser')\n",
    "plt.plot(lambda_h2,EL3,label='Hydrogen heating')\n",
    "plt.plot(lambda_h2,EL4_eaf,label='Electric arc furnace')\n",
    "plt.savefig('Electricity demand break-up for 1 tls.svg')\n",
    "plt.savefig('Electricity demand break-up for 1 tls.pdf')\n",
    "plt.legend()\n",
    "plt.show()"
   ]
  },
  {
   "cell_type": "code",
   "execution_count": 57,
   "metadata": {},
   "outputs": [],
   "source": [
    "import pandas as pd\n",
    "import numpy as np\n",
    "import matplotlib.pyplot as plt\n",
    "\n",
    "X_AXIS = (1.0, 1.5, 2.0, 2.5, 3.0, 3.5, 4.0, 4.5, 5.0)\n",
    "\n"
   ]
  },
  {
   "cell_type": "code",
   "execution_count": 58,
   "metadata": {},
   "outputs": [
    {
     "data": {
      "image/png": "[encoded data removed]",
      "text/plain": [
       "<Figure size 612x612 with 1 Axes>"
      ]
     },
     "metadata": {
      "needs_background": "light"
     },
     "output_type": "display_data"
    }
   ],
   "source": [
    "index = pd.Index(X_AXIS, name='test')\n",
    "\n",
    "data = {\n",
    "    'Pellet heating': (EL1_pellet[0], EL1_pellet[1], EL1_pellet[2], EL1_pellet[3], EL1_pellet[4], EL1_pellet[5], EL1_pellet[6], EL1_pellet[7], EL1_pellet[8]),\n",
    "    'Electrolyser': (EL2_elec[0], EL2_elec[1],EL2_elec[2],EL2_elec[3],EL2_elec[4],EL2_elec[5],EL2_elec[6], EL2_elec[7],EL2_elec[8]),\n",
    "    'Hydrogen heating': (EL3[0],EL3[1],EL3[2],EL3[3],EL3[4],EL3[5],EL3[6],EL3[7],EL3[8]),\n",
    "    'Electric arc furnace': (EL4_eaf[0],EL4_eaf[1],EL4_eaf[2],EL4_eaf[3],EL4_eaf[4],EL4_eaf[5],EL4_eaf[6],EL4_eaf[7],EL4_eaf[8])\n",
    "}\n",
    "\n",
    "df_data = pd.DataFrame(data, index=index)\n",
    "df_data\n",
    "ax = df_data.plot(kind='bar', stacked=True, figsize=(8.5, 8.5))\n",
    "ax.set_ylabel('Electricity consumption in DRI-EAF system in KWh')\n",
    "ax.set_xlabel('Lambda')\n",
    "plt.savefig('Electricity_consumption_in_DRI_EAF_system.pdf',format='pdf', dpi=1200)\n",
    "plt.savefig('Electricity consumption in DRI-EAF system.svg',format='svg', dpi=1200)\n",
    "#plt.savefig('Electricity consumption in DRI-EAF system.eps'format='eps', dpi=1200)\n",
    "plt.show()"
   ]
  },
  {
   "cell_type": "code",
   "execution_count": 59,
   "metadata": {},
   "outputs": [],
   "source": [
    "df_data['Total electricity in KWh']=df_data['Pellet heating']+df_data['Electrolyser']+df_data['Hydrogen heating']+df_data['Electric arc furnace']"
   ]
  },
  {
   "cell_type": "code",
   "execution_count": 60,
   "metadata": {},
   "outputs": [
    {
     "data": {
      "text/html": [
       "<div>\n",
       "<style scoped>\n",
       "    .dataframe tbody tr th:only-of-type {\n",
       "        vertical-align: middle;\n",
       "    }\n",
       "\n",
       "    .dataframe tbody tr th {\n",
       "        vertical-align: top;\n",
       "    }\n",
       "\n",
       "    .dataframe thead th {\n",
       "        text-align: right;\n",
       "    }\n",
       "</style>\n",
       "<table border=\"1\" class=\"dataframe\">\n",
       "  <thead>\n",
       "    <tr style=\"text-align: right;\">\n",
       "      <th></th>\n",
       "      <th>Pellet heating</th>\n",
       "      <th>Electrolyser</th>\n",
       "      <th>Hydrogen heating</th>\n",
       "      <th>Electric arc furnace</th>\n",
       "      <th>Total electricity in KWh</th>\n",
       "      <th>Percentage</th>\n",
       "    </tr>\n",
       "    <tr>\n",
       "      <th>test</th>\n",
       "      <th></th>\n",
       "      <th></th>\n",
       "      <th></th>\n",
       "      <th></th>\n",
       "      <th></th>\n",
       "      <th></th>\n",
       "    </tr>\n",
       "  </thead>\n",
       "  <tbody>\n",
       "    <tr>\n",
       "      <th>1.0</th>\n",
       "      <td>436.221696</td>\n",
       "      <td>2436.599517</td>\n",
       "      <td>91.363643</td>\n",
       "      <td>445.346428</td>\n",
       "      <td>3409.531284</td>\n",
       "      <td>71.464354</td>\n",
       "    </tr>\n",
       "    <tr>\n",
       "      <th>1.5</th>\n",
       "      <td>436.221696</td>\n",
       "      <td>2680.259468</td>\n",
       "      <td>160.297667</td>\n",
       "      <td>445.346428</td>\n",
       "      <td>3722.125259</td>\n",
       "      <td>72.008847</td>\n",
       "    </tr>\n",
       "    <tr>\n",
       "      <th>2.0</th>\n",
       "      <td>436.221696</td>\n",
       "      <td>2923.919420</td>\n",
       "      <td>229.231690</td>\n",
       "      <td>445.346428</td>\n",
       "      <td>4034.719234</td>\n",
       "      <td>72.468969</td>\n",
       "    </tr>\n",
       "    <tr>\n",
       "      <th>2.5</th>\n",
       "      <td>436.221696</td>\n",
       "      <td>3167.579371</td>\n",
       "      <td>298.165714</td>\n",
       "      <td>445.346428</td>\n",
       "      <td>4347.313210</td>\n",
       "      <td>72.862921</td>\n",
       "    </tr>\n",
       "    <tr>\n",
       "      <th>3.0</th>\n",
       "      <td>436.221696</td>\n",
       "      <td>3411.239323</td>\n",
       "      <td>367.099738</td>\n",
       "      <td>445.346428</td>\n",
       "      <td>4659.907185</td>\n",
       "      <td>73.204019</td>\n",
       "    </tr>\n",
       "    <tr>\n",
       "      <th>3.5</th>\n",
       "      <td>436.221696</td>\n",
       "      <td>3654.899275</td>\n",
       "      <td>436.033761</td>\n",
       "      <td>445.346428</td>\n",
       "      <td>4972.501161</td>\n",
       "      <td>73.502231</td>\n",
       "    </tr>\n",
       "    <tr>\n",
       "      <th>4.0</th>\n",
       "      <td>436.221696</td>\n",
       "      <td>3898.559226</td>\n",
       "      <td>504.967785</td>\n",
       "      <td>445.346428</td>\n",
       "      <td>5285.095136</td>\n",
       "      <td>73.765166</td>\n",
       "    </tr>\n",
       "    <tr>\n",
       "      <th>4.5</th>\n",
       "      <td>436.221696</td>\n",
       "      <td>4142.219178</td>\n",
       "      <td>573.901809</td>\n",
       "      <td>445.346428</td>\n",
       "      <td>5597.689111</td>\n",
       "      <td>73.998736</td>\n",
       "    </tr>\n",
       "    <tr>\n",
       "      <th>5.0</th>\n",
       "      <td>436.221696</td>\n",
       "      <td>4385.879130</td>\n",
       "      <td>642.835833</td>\n",
       "      <td>445.346428</td>\n",
       "      <td>5910.283087</td>\n",
       "      <td>74.207598</td>\n",
       "    </tr>\n",
       "  </tbody>\n",
       "</table>\n",
       "</div>"
      ],
      "text/plain": [
       "      Pellet heating  Electrolyser  Hydrogen heating  Electric arc furnace  \\\n",
       "test                                                                         \n",
       "1.0       436.221696   2436.599517         91.363643            445.346428   \n",
       "1.5       436.221696   2680.259468        160.297667            445.346428   \n",
       "2.0       436.221696   2923.919420        229.231690            445.346428   \n",
       "2.5       436.221696   3167.579371        298.165714            445.346428   \n",
       "3.0       436.221696   3411.239323        367.099738            445.346428   \n",
       "3.5       436.221696   3654.899275        436.033761            445.346428   \n",
       "4.0       436.221696   3898.559226        504.967785            445.346428   \n",
       "4.5       436.221696   4142.219178        573.901809            445.346428   \n",
       "5.0       436.221696   4385.879130        642.835833            445.346428   \n",
       "\n",
       "      Total electricity in KWh  Percentage  \n",
       "test                                        \n",
       "1.0                3409.531284   71.464354  \n",
       "1.5                3722.125259   72.008847  \n",
       "2.0                4034.719234   72.468969  \n",
       "2.5                4347.313210   72.862921  \n",
       "3.0                4659.907185   73.204019  \n",
       "3.5                4972.501161   73.502231  \n",
       "4.0                5285.095136   73.765166  \n",
       "4.5                5597.689111   73.998736  \n",
       "5.0                5910.283087   74.207598  "
      ]
     },
     "execution_count": 60,
     "metadata": {},
     "output_type": "execute_result"
    }
   ],
   "source": [
    "df_data['Percentage']=(df_data['Electrolyser']/df_data['Total electricity in KWh'])*100\n",
    "df_data"
   ]
  },
  {
   "cell_type": "code",
   "execution_count": null,
   "metadata": {},
   "outputs": [],
   "source": []
  }
 ],
 "metadata": {
  "kernelspec": {
   "display_name": "Python 3",
   "language": "python",
   "name": "python3"
  },
  "language_info": {
   "codemirror_mode": {
    "name": "ipython",
    "version": 3
   },
   "file_extension": ".py",
   "mimetype": "text/x-python",
   "name": "python",
   "nbconvert_exporter": "python",
   "pygments_lexer": "ipython3",
   "version": "3.7.3"
  }
 },
 "nbformat": 4,
 "nbformat_minor": 2
}
